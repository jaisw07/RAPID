{
 "cells": [
  {
   "cell_type": "markdown",
   "id": "254f9bd5-59ae-4fd7-9c01-5bb2fd6e955e",
   "metadata": {},
   "source": [
    "## Data Loading"
   ]
  },
  {
   "cell_type": "code",
   "execution_count": 1,
   "id": "73fb8855-d757-4180-ab2d-1bfd8639bdb6",
   "metadata": {},
   "outputs": [],
   "source": [
    "# import os\n",
    "# from PIL import Image, ImageOps\n",
    "# from tqdm import tqdm  # ✅ Added progress bar\n",
    "\n",
    "# # Source and destination directories\n",
    "# src_root = r\"C:\\Users\\SHREY\\Desktop\\gnctd\\segmentation_dataset\"\n",
    "# dst_root = r\"C:\\Users\\SHREY\\Desktop\\gnctd\\segmentation_dataset_512_512\"\n",
    "\n",
    "# # Target size\n",
    "# target_size = (512, 512)\n",
    "\n",
    "# # Helper function: resize with padding (aspect-ratio preserved)\n",
    "# def resize_with_padding(img, target_size, is_mask=False):\n",
    "#     if is_mask and img.mode != \"L\":\n",
    "#         img = img.convert(\"L\")\n",
    "#     elif not is_mask and img.mode != \"RGB\":\n",
    "#         img = img.convert(\"RGB\")\n",
    "\n",
    "#     img = ImageOps.pad(\n",
    "#         img,\n",
    "#         target_size,\n",
    "#         method=Image.NEAREST if is_mask else Image.BILINEAR,\n",
    "#         color=0,\n",
    "#         centering=(0.5, 0.5)\n",
    "#     )\n",
    "#     return img\n",
    "\n",
    "# # Process all splits\n",
    "# splits = [\"train\", \"val\", \"test\"]\n",
    "# for split in splits:\n",
    "#     for subfolder in [\"images\", \"masks\"]:\n",
    "#         src_dir = os.path.join(src_root, split, subfolder)\n",
    "#         dst_dir = os.path.join(dst_root, split, subfolder)\n",
    "#         os.makedirs(dst_dir, exist_ok=True)\n",
    "\n",
    "#         file_list = [\n",
    "#             f for f in os.listdir(src_dir)\n",
    "#             if f.lower().endswith((\".png\", \".jpg\", \".jpeg\"))\n",
    "#         ]\n",
    "\n",
    "#         print(f\"🔄 Processing {split}/{subfolder} ({len(file_list)} files)...\")\n",
    "#         for fname in tqdm(file_list, desc=f\"{split}/{subfolder}\"):\n",
    "#             src_path = os.path.join(src_dir, fname)\n",
    "#             dst_path = os.path.join(dst_dir, fname)\n",
    "\n",
    "#             with Image.open(src_path) as img:\n",
    "#                 resized = resize_with_padding(img, target_size, is_mask=(subfolder == \"masks\"))\n",
    "#                 resized.save(dst_path)\n",
    "\n",
    "# print(\"✅ All images and masks resized to 512x512 with padding. Saved to:\", dst_root)"
   ]
  },
  {
   "cell_type": "code",
   "execution_count": 2,
   "id": "bda824d8-0bb0-4cd9-9acf-6050178057d2",
   "metadata": {},
   "outputs": [],
   "source": [
    "from torch.utils.data import Dataset, DataLoader\n",
    "from PIL import Image\n",
    "import os\n",
    "import numpy as np\n",
    "import torch\n",
    "from torchvision import transforms\n",
    "\n",
    "class SegformerSegmentationDataset(Dataset):\n",
    "    def __init__(self, image_dir, mask_dir, image_size=512):\n",
    "        self.image_dir = image_dir\n",
    "        self.mask_dir = mask_dir\n",
    "        self.image_size = image_size\n",
    "\n",
    "        self.filenames = sorted([\n",
    "            f for f in os.listdir(image_dir)\n",
    "            if f.lower().endswith(('.jpg', '.png', '.jpeg'))\n",
    "        ])\n",
    "\n",
    "        self.img_transform = transforms.Compose([\n",
    "            transforms.ToTensor(),  # Converts to [0,1] float32\n",
    "        ])\n",
    "\n",
    "    def __len__(self):\n",
    "        return len(self.filenames)\n",
    "\n",
    "    def __getitem__(self, idx):\n",
    "        image_name = self.filenames[idx]\n",
    "        image_path = os.path.join(self.image_dir, image_name)\n",
    "        mask_path = os.path.join(self.mask_dir, os.path.splitext(image_name)[0] + \".png\")\n",
    "\n",
    "        image = Image.open(image_path).convert(\"RGB\")\n",
    "        mask = Image.open(mask_path).convert(\"L\")\n",
    "\n",
    "        # Convert mask to label ids\n",
    "        mask = np.array(mask, dtype=np.uint8)\n",
    "        mask = np.where(mask == 255, 2, np.where(mask == 127, 1, 0))\n",
    "\n",
    "        image = self.img_transform(image)\n",
    "        mask = torch.from_numpy(mask).long()\n",
    "\n",
    "        return image, mask"
   ]
  },
  {
   "cell_type": "code",
   "execution_count": 3,
   "id": "31164b58-5200-4144-a584-57eee8c48f25",
   "metadata": {},
   "outputs": [],
   "source": [
    "# Root path to resized dataset\n",
    "base_path = r\"C:\\Users\\SHREY\\Desktop\\gnctd\\segmentation_dataset_512_512\"\n",
    "\n",
    "# Datasets\n",
    "train_dataset = SegformerSegmentationDataset(\n",
    "    image_dir=os.path.join(base_path, \"train\", \"images\"),\n",
    "    mask_dir=os.path.join(base_path, \"train\", \"masks\"),\n",
    ")\n",
    "\n",
    "val_dataset = SegformerSegmentationDataset(\n",
    "    image_dir=os.path.join(base_path, \"val\", \"images\"),\n",
    "    mask_dir=os.path.join(base_path, \"val\", \"masks\"),\n",
    ")\n",
    "\n",
    "test_dataset = SegformerSegmentationDataset(\n",
    "    image_dir=os.path.join(base_path, \"test\", \"images\"),\n",
    "    mask_dir=os.path.join(base_path, \"test\", \"masks\"),\n",
    ")\n",
    "\n",
    "# DataLoaders\n",
    "train_loader = DataLoader(train_dataset, batch_size=8, shuffle=True, num_workers=0, pin_memory=True)\n",
    "val_loader = DataLoader(val_dataset, batch_size=8, shuffle=False, num_workers=0, pin_memory=True)\n",
    "test_loader = DataLoader(test_dataset, batch_size=8, shuffle=False, num_workers=0, pin_memory=True)"
   ]
  },
  {
   "cell_type": "markdown",
   "id": "d58ed538-6575-4474-b048-0ed2289264a6",
   "metadata": {},
   "source": [
    "## Training"
   ]
  },
  {
   "cell_type": "code",
   "execution_count": 4,
   "id": "50ec960d-92d7-4016-ac34-3d4faf08f0ec",
   "metadata": {},
   "outputs": [
    {
     "name": "stderr",
     "output_type": "stream",
     "text": [
      "Some weights of SegformerForSemanticSegmentation were not initialized from the model checkpoint at nvidia/segformer-b0-finetuned-ade-512-512 and are newly initialized because the shapes did not match:\n",
      "- decode_head.classifier.bias: found shape torch.Size([150]) in the checkpoint and torch.Size([3]) in the model instantiated\n",
      "- decode_head.classifier.weight: found shape torch.Size([150, 256, 1, 1]) in the checkpoint and torch.Size([3, 256, 1, 1]) in the model instantiated\n",
      "You should probably TRAIN this model on a down-stream task to be able to use it for predictions and inference.\n"
     ]
    }
   ],
   "source": [
    "from transformers import SegformerForSemanticSegmentation, SegformerConfig\n",
    "\n",
    "# Number of classes in your dataset\n",
    "NUM_CLASSES = 3\n",
    "\n",
    "# Load SegFormer-B0 configuration and model\n",
    "config = SegformerConfig.from_pretrained(\n",
    "    \"nvidia/segformer-b0-finetuned-ade-512-512\",\n",
    "    num_labels=NUM_CLASSES,\n",
    "    id2label={0: \"background\", 1: \"crack\", 2: \"pothole\"},\n",
    "    label2id={\"background\": 0, \"crack\": 1, \"pothole\": 2}\n",
    ")\n",
    "\n",
    "model = SegformerForSemanticSegmentation.from_pretrained(\n",
    "    \"nvidia/segformer-b0-finetuned-ade-512-512\",\n",
    "    config=config,\n",
    "    ignore_mismatched_sizes=True  # Useful if ADE has 150 classes and you have 3\n",
    ")\n",
    "\n",
    "device = torch.device(\"cuda\" if torch.cuda.is_available() else \"cpu\")\n",
    "model = model.to(device)"
   ]
  },
  {
   "cell_type": "code",
   "execution_count": 5,
   "id": "842a1bb2-d077-4f47-9667-9d5a24f35d03",
   "metadata": {},
   "outputs": [],
   "source": [
    "import torch.nn as nn\n",
    "import torch.optim as optim\n",
    "\n",
    "# ⚖️ Class weights for handling imbalance: [background, crack, pothole]\n",
    "class_weights = torch.tensor([0.1, 2.0, 1.5]).to(device)\n",
    "# class_weights = torch.tensor([0.1, 4.0, 1.5]).to(device) #updated after 30 epochs, class 1 - .32 and class 2 -.73\n",
    "# class_weights = torch.tensor([0.1, 7.0, 1.0]).to(device)\n",
    "\n",
    "# 🔥 Loss function with class weights\n",
    "criterion = nn.CrossEntropyLoss(weight=class_weights)\n",
    "\n",
    "# 🚀 Optimizer setup\n",
    "optimizer = optim.Adam(model.parameters(), lr=1e-4, weight_decay=1e-5)"
   ]
  },
  {
   "cell_type": "code",
   "execution_count": 6,
   "id": "7f0bd6c5-b18c-4d59-9826-e7d69895c4a6",
   "metadata": {},
   "outputs": [],
   "source": [
    "import torch\n",
    "import torch.nn.functional as F\n",
    "from tqdm import tqdm\n",
    "import os\n",
    "import time\n",
    "import matplotlib.pyplot as plt\n",
    "import csv\n",
    "from sklearn.metrics import confusion_matrix\n",
    "import numpy as np\n",
    "\n",
    "device = torch.device(\"cuda\" if torch.cuda.is_available() else \"cpu\")\n",
    "\n",
    "def train_model(\n",
    "    model, train_loader, val_loader, criterion, optimizer,\n",
    "    num_epochs=10,\n",
    "    save_path=\"best_model.pth\",\n",
    "    last_model_path=\"last_model.pth\",\n",
    "    checkpoint_path=\"checkpoint.pth\",\n",
    "    pause_file=\"pause.flag\"\n",
    "):\n",
    "    start_epoch = 0\n",
    "    best_miou = -1.0\n",
    "    miou_list = []\n",
    "    dice_list = []\n",
    "\n",
    "    # Resume from checkpoint if exists\n",
    "    if os.path.exists(checkpoint_path):\n",
    "        print(\"🔁 Resuming from checkpoint...\")\n",
    "        checkpoint = torch.load(checkpoint_path, map_location=device)\n",
    "        model.load_state_dict(checkpoint['model_state_dict'])\n",
    "        optimizer.load_state_dict(checkpoint['optimizer_state_dict'])\n",
    "        start_epoch = checkpoint['epoch'] + 1\n",
    "        best_miou = checkpoint.get('best_miou', -1.0)\n",
    "        print(f\"➡️ Resumed from epoch {start_epoch}, Best mIoU so far: {best_miou:.4f}\")\n",
    "\n",
    "    model.to(device)\n",
    "    print(f\"📟 Using device: {device}\")\n",
    "\n",
    "    for epoch in range(start_epoch, num_epochs):\n",
    "        while os.path.exists(pause_file):\n",
    "            print(\"⏸️ Training paused. Remove 'pause.flag' to resume.\")\n",
    "            time.sleep(5)\n",
    "\n",
    "        model.train()\n",
    "        train_loss = 0.0\n",
    "        loop = tqdm(train_loader, desc=f\"Epoch [{epoch+1}/{num_epochs}] Training\", leave=False)\n",
    "\n",
    "        for images, masks in loop:\n",
    "            images, masks = images.to(device), masks.to(device)\n",
    "\n",
    "            optimizer.zero_grad()\n",
    "            outputs = model(pixel_values=images)\n",
    "            import torch.nn.functional as F\n",
    "            logits = F.interpolate(outputs.logits, size=masks.shape[-2:], mode=\"bilinear\", align_corners=False)\n",
    "            loss = criterion(logits, masks)\n",
    "            loss.backward()\n",
    "            optimizer.step()\n",
    "\n",
    "            train_loss += loss.item()\n",
    "            loop.set_postfix(loss=loss.item())\n",
    "\n",
    "        avg_train_loss = train_loss / len(train_loader)\n",
    "        print(f\"\\n📘 Epoch {epoch+1}: Avg Train Loss = {avg_train_loss:.4f}\")\n",
    "\n",
    "        val_loss, miou, dice, ious, dices = validate(model, val_loader, criterion)\n",
    "\n",
    "        miou_list.append(miou)\n",
    "        dice_list.append(dice)\n",
    "\n",
    "        if miou > best_miou:\n",
    "            best_miou = miou\n",
    "            torch.save(model.state_dict(), save_path)\n",
    "            print(f\"✅ Best model saved! mIoU = {best_miou:.4f}\")\n",
    "\n",
    "        torch.save({\n",
    "            'epoch': epoch,\n",
    "            'model_state_dict': model.state_dict(),\n",
    "            'optimizer_state_dict': optimizer.state_dict(),\n",
    "            'best_miou': best_miou\n",
    "        }, checkpoint_path)\n",
    "        print(f\"💾 Checkpoint saved at epoch {epoch+1}\")\n",
    "\n",
    "    torch.save(model.state_dict(), last_model_path)\n",
    "    print(f\"📦 Final model saved to: {last_model_path}\")\n",
    "\n",
    "    # Plotting\n",
    "    plt.figure(figsize=(10, 5))\n",
    "    plt.plot(miou_list, label=\"mIoU\", marker='o')\n",
    "    plt.plot(dice_list, label=\"Dice\", marker='x')\n",
    "    plt.xlabel(\"Epoch\")\n",
    "    plt.ylabel(\"Score\")\n",
    "    plt.title(\"mIoU and Dice over Epochs\")\n",
    "    plt.legend()\n",
    "    plt.grid(True)\n",
    "    plt.savefig(\"training_metrics.png\")\n",
    "    plt.show()\n",
    "\n",
    "    with open(\"metrics_log.csv\", \"w\", newline='') as f:\n",
    "        writer = csv.writer(f)\n",
    "        writer.writerow([\"Epoch\", \"mIoU\", \"Dice\"])\n",
    "        for epoch, (m, d) in enumerate(zip(miou_list, dice_list), start=1):\n",
    "            writer.writerow([epoch, m, d])\n",
    "\n",
    "def compute_iou_and_dice(preds, labels, num_classes=3):\n",
    "    preds = preds.flatten()\n",
    "    labels = labels.flatten()\n",
    "    cm = confusion_matrix(labels, preds, labels=range(num_classes))\n",
    "\n",
    "    ious, dices = [], []\n",
    "    for cls in range(num_classes):\n",
    "        tp = cm[cls, cls]\n",
    "        fp = cm[:, cls].sum() - tp\n",
    "        fn = cm[cls, :].sum() - tp\n",
    "        denom_iou = tp + fp + fn\n",
    "        denom_dice = 2 * tp + fp + fn\n",
    "\n",
    "        iou = tp / denom_iou if denom_iou > 0 else 0\n",
    "        dice = (2 * tp) / denom_dice if denom_dice > 0 else 0\n",
    "\n",
    "        ious.append(iou)\n",
    "        dices.append(dice)\n",
    "\n",
    "    return ious, dices, np.mean(ious), np.mean(dices)\n",
    "\n",
    "@torch.no_grad()\n",
    "def validate(model, val_loader, criterion, num_classes=3):\n",
    "    model.eval()\n",
    "    val_loss = 0.0\n",
    "    all_preds, all_labels = [], []\n",
    "\n",
    "    for images, masks in tqdm(val_loader, desc=\"🔍 Validating\", leave=False):\n",
    "        images, masks = images.to(device), masks.to(device)\n",
    "        outputs = model(pixel_values=images)\n",
    "        logits = F.interpolate(outputs.logits, size=masks.shape[-2:], mode=\"bilinear\", align_corners=False)\n",
    "        loss = criterion(logits, masks)\n",
    "        val_loss += loss.item()\n",
    "        \n",
    "        preds = torch.argmax(logits, dim=1).cpu().numpy()\n",
    "        all_preds.append(preds)\n",
    "        all_labels.append(masks.cpu().numpy())\n",
    "\n",
    "    avg_val_loss = val_loss / len(val_loader)\n",
    "    all_preds = np.concatenate(all_preds, axis=0)\n",
    "    all_labels = np.concatenate(all_labels, axis=0)\n",
    "\n",
    "    ious, dices, miou, mdice = compute_iou_and_dice(all_preds, all_labels, num_classes=num_classes)\n",
    "\n",
    "    print(f\"🔎 Val Loss: {avg_val_loss:.4f}, mIoU: {miou:.4f}, Dice: {mdice:.4f}\")\n",
    "    for idx, (iou, dice) in enumerate(zip(ious, dices)):\n",
    "        print(f\"🧾 Class {idx}: IoU = {iou:.4f}, Dice = {dice:.4f}\")\n",
    "\n",
    "    return avg_val_loss, miou, mdice, ious, dices"
   ]
  },
  {
   "cell_type": "markdown",
   "id": "41e75d4d-fddc-4d53-b762-80e37b9e115b",
   "metadata": {},
   "source": [
    "## Start Training"
   ]
  },
  {
   "cell_type": "code",
   "execution_count": 24,
   "id": "423a1a88-baa1-4cae-a2a3-f52ec34439bb",
   "metadata": {},
   "outputs": [
    {
     "name": "stdout",
     "output_type": "stream",
     "text": [
      "🔁 Resuming from checkpoint...\n"
     ]
    },
    {
     "name": "stderr",
     "output_type": "stream",
     "text": [
      "C:\\Users\\SHREY\\AppData\\Local\\Temp\\ipykernel_19232\\470420776.py:29: FutureWarning: You are using `torch.load` with `weights_only=False` (the current default value), which uses the default pickle module implicitly. It is possible to construct malicious pickle data which will execute arbitrary code during unpickling (See https://github.com/pytorch/pytorch/blob/main/SECURITY.md#untrusted-models for more details). In a future release, the default value for `weights_only` will be flipped to `True`. This limits the functions that could be executed during unpickling. Arbitrary objects will no longer be allowed to be loaded via this mode unless they are explicitly allowlisted by the user via `torch.serialization.add_safe_globals`. We recommend you start setting `weights_only=True` for any use case where you don't have full control of the loaded file. Please open an issue on GitHub for any issues related to this experimental feature.\n",
      "  checkpoint = torch.load(checkpoint_path, map_location=device)\n"
     ]
    },
    {
     "name": "stdout",
     "output_type": "stream",
     "text": [
      "➡️ Resumed from epoch 30, Best mIoU so far: 0.5839\n",
      "📟 Using device: cuda\n",
      "📦 Final model saved to: segformer_last.pth\n"
     ]
    },
    {
     "data": {
      "image/png": "[encoded data removed]",
      "text/plain": [
       "<Figure size 1000x500 with 1 Axes>"
      ]
     },
     "metadata": {},
     "output_type": "display_data"
    }
   ],
   "source": [
    "train_model(\n",
    "    model=model,  # SegformerForSemanticSegmentation model\n",
    "    train_loader=train_loader,\n",
    "    val_loader=val_loader,\n",
    "    criterion=criterion,\n",
    "    optimizer=optimizer,\n",
    "    num_epochs=5,\n",
    "    save_path=\"segformer_best.pth\",\n",
    "    last_model_path=\"segformer_last.pth\",\n",
    "    checkpoint_path=\"segformer_checkpoint.pth\"\n",
    ")"
   ]
  },
  {
   "cell_type": "code",
   "execution_count": 16,
   "id": "a71a52fa-be3f-4a85-91c2-eb0a80334b00",
   "metadata": {},
   "outputs": [
    {
     "name": "stdout",
     "output_type": "stream",
     "text": [
      "🔁 Resuming from checkpoint...\n"
     ]
    },
    {
     "name": "stderr",
     "output_type": "stream",
     "text": [
      "C:\\Users\\SHREY\\AppData\\Local\\Temp\\ipykernel_19232\\470420776.py:29: FutureWarning: You are using `torch.load` with `weights_only=False` (the current default value), which uses the default pickle module implicitly. It is possible to construct malicious pickle data which will execute arbitrary code during unpickling (See https://github.com/pytorch/pytorch/blob/main/SECURITY.md#untrusted-models for more details). In a future release, the default value for `weights_only` will be flipped to `True`. This limits the functions that could be executed during unpickling. Arbitrary objects will no longer be allowed to be loaded via this mode unless they are explicitly allowlisted by the user via `torch.serialization.add_safe_globals`. We recommend you start setting `weights_only=True` for any use case where you don't have full control of the loaded file. Please open an issue on GitHub for any issues related to this experimental feature.\n",
      "  checkpoint = torch.load(checkpoint_path, map_location=device)\n"
     ]
    },
    {
     "name": "stdout",
     "output_type": "stream",
     "text": [
      "➡️ Resumed from epoch 5, Best mIoU so far: 0.4912\n",
      "📟 Using device: cuda\n"
     ]
    },
    {
     "name": "stderr",
     "output_type": "stream",
     "text": [
      "                                                                                                                       "
     ]
    },
    {
     "name": "stdout",
     "output_type": "stream",
     "text": [
      "\n",
      "📘 Epoch 6: Avg Train Loss = 0.1007\n"
     ]
    },
    {
     "name": "stderr",
     "output_type": "stream",
     "text": [
      "                                                                                                                       "
     ]
    },
    {
     "name": "stdout",
     "output_type": "stream",
     "text": [
      "🔎 Val Loss: 0.1085, mIoU: 0.4912, Dice: 0.5917\n",
      "🧾 Class 0: IoU = 0.9719, Dice = 0.9857\n",
      "🧾 Class 1: IoU = 0.1716, Dice = 0.2929\n",
      "🧾 Class 2: IoU = 0.3303, Dice = 0.4966\n",
      "✅ Best model saved! mIoU = 0.4912\n",
      "💾 Checkpoint saved at epoch 6\n"
     ]
    },
    {
     "name": "stderr",
     "output_type": "stream",
     "text": [
      "                                                                                                                       "
     ]
    },
    {
     "name": "stdout",
     "output_type": "stream",
     "text": [
      "\n",
      "📘 Epoch 7: Avg Train Loss = 0.0937\n"
     ]
    },
    {
     "name": "stderr",
     "output_type": "stream",
     "text": [
      "                                                                                                                       "
     ]
    },
    {
     "name": "stdout",
     "output_type": "stream",
     "text": [
      "🔎 Val Loss: 0.1071, mIoU: 0.5307, Dice: 0.6362\n",
      "🧾 Class 0: IoU = 0.9792, Dice = 0.9895\n",
      "🧾 Class 1: IoU = 0.2038, Dice = 0.3386\n",
      "🧾 Class 2: IoU = 0.4090, Dice = 0.5805\n",
      "✅ Best model saved! mIoU = 0.5307\n",
      "💾 Checkpoint saved at epoch 7\n"
     ]
    },
    {
     "name": "stderr",
     "output_type": "stream",
     "text": [
      "                                                                                                                       "
     ]
    },
    {
     "name": "stdout",
     "output_type": "stream",
     "text": [
      "\n",
      "📘 Epoch 8: Avg Train Loss = 0.0902\n"
     ]
    },
    {
     "name": "stderr",
     "output_type": "stream",
     "text": [
      "                                                                                                                       "
     ]
    },
    {
     "name": "stdout",
     "output_type": "stream",
     "text": [
      "🔎 Val Loss: 0.1071, mIoU: 0.5405, Dice: 0.6442\n",
      "🧾 Class 0: IoU = 0.9772, Dice = 0.9885\n",
      "🧾 Class 1: IoU = 0.1899, Dice = 0.3191\n",
      "🧾 Class 2: IoU = 0.4544, Dice = 0.6249\n",
      "✅ Best model saved! mIoU = 0.5405\n",
      "💾 Checkpoint saved at epoch 8\n"
     ]
    },
    {
     "name": "stderr",
     "output_type": "stream",
     "text": [
      "                                                                                                                       "
     ]
    },
    {
     "name": "stdout",
     "output_type": "stream",
     "text": [
      "\n",
      "📘 Epoch 9: Avg Train Loss = 0.0899\n"
     ]
    },
    {
     "name": "stderr",
     "output_type": "stream",
     "text": [
      "                                                                                                                       "
     ]
    },
    {
     "name": "stdout",
     "output_type": "stream",
     "text": [
      "🔎 Val Loss: 0.0993, mIoU: 0.5117, Dice: 0.6150\n",
      "🧾 Class 0: IoU = 0.9748, Dice = 0.9872\n",
      "🧾 Class 1: IoU = 0.1837, Dice = 0.3104\n",
      "🧾 Class 2: IoU = 0.3767, Dice = 0.5473\n",
      "💾 Checkpoint saved at epoch 9\n"
     ]
    },
    {
     "name": "stderr",
     "output_type": "stream",
     "text": [
      "                                                                                                                       "
     ]
    },
    {
     "name": "stdout",
     "output_type": "stream",
     "text": [
      "\n",
      "📘 Epoch 10: Avg Train Loss = 0.0854\n"
     ]
    },
    {
     "name": "stderr",
     "output_type": "stream",
     "text": [
      "                                                                                                                       "
     ]
    },
    {
     "name": "stdout",
     "output_type": "stream",
     "text": [
      "🔎 Val Loss: 0.1002, mIoU: 0.5271, Dice: 0.6277\n",
      "🧾 Class 0: IoU = 0.9705, Dice = 0.9850\n",
      "🧾 Class 1: IoU = 0.1617, Dice = 0.2784\n",
      "🧾 Class 2: IoU = 0.4490, Dice = 0.6197\n",
      "💾 Checkpoint saved at epoch 10\n",
      "📦 Final model saved to: segformer_last.pth\n"
     ]
    },
    {
     "data": {
      "image/png": "[encoded data removed]",
      "text/plain": [
       "<Figure size 1000x500 with 1 Axes>"
      ]
     },
     "metadata": {},
     "output_type": "display_data"
    }
   ],
   "source": [
    "train_model(\n",
    "    model=model,  # SegformerForSemanticSegmentation model\n",
    "    train_loader=train_loader,\n",
    "    val_loader=val_loader,\n",
    "    criterion=criterion,\n",
    "    optimizer=optimizer,\n",
    "    num_epochs=10,\n",
    "    save_path=\"segformer_best.pth\",\n",
    "    last_model_path=\"segformer_last.pth\",\n",
    "    checkpoint_path=\"segformer_checkpoint.pth\"\n",
    ")"
   ]
  },
  {
   "cell_type": "code",
   "execution_count": 17,
   "id": "ba5154eb-64cf-4adf-838d-90d2feed680c",
   "metadata": {},
   "outputs": [
    {
     "name": "stdout",
     "output_type": "stream",
     "text": [
      "🔁 Resuming from checkpoint...\n"
     ]
    },
    {
     "name": "stderr",
     "output_type": "stream",
     "text": [
      "C:\\Users\\SHREY\\AppData\\Local\\Temp\\ipykernel_19232\\470420776.py:29: FutureWarning: You are using `torch.load` with `weights_only=False` (the current default value), which uses the default pickle module implicitly. It is possible to construct malicious pickle data which will execute arbitrary code during unpickling (See https://github.com/pytorch/pytorch/blob/main/SECURITY.md#untrusted-models for more details). In a future release, the default value for `weights_only` will be flipped to `True`. This limits the functions that could be executed during unpickling. Arbitrary objects will no longer be allowed to be loaded via this mode unless they are explicitly allowlisted by the user via `torch.serialization.add_safe_globals`. We recommend you start setting `weights_only=True` for any use case where you don't have full control of the loaded file. Please open an issue on GitHub for any issues related to this experimental feature.\n",
      "  checkpoint = torch.load(checkpoint_path, map_location=device)\n"
     ]
    },
    {
     "name": "stdout",
     "output_type": "stream",
     "text": [
      "➡️ Resumed from epoch 10, Best mIoU so far: 0.5405\n",
      "📟 Using device: cuda\n"
     ]
    },
    {
     "name": "stderr",
     "output_type": "stream",
     "text": [
      "                                                                                                                       "
     ]
    },
    {
     "name": "stdout",
     "output_type": "stream",
     "text": [
      "\n",
      "📘 Epoch 11: Avg Train Loss = 0.0823\n"
     ]
    },
    {
     "name": "stderr",
     "output_type": "stream",
     "text": [
      "                                                                                                                       "
     ]
    },
    {
     "name": "stdout",
     "output_type": "stream",
     "text": [
      "🔎 Val Loss: 0.1025, mIoU: 0.5247, Dice: 0.6271\n",
      "🧾 Class 0: IoU = 0.9735, Dice = 0.9866\n",
      "🧾 Class 1: IoU = 0.1745, Dice = 0.2972\n",
      "🧾 Class 2: IoU = 0.4261, Dice = 0.5976\n",
      "💾 Checkpoint saved at epoch 11\n"
     ]
    },
    {
     "name": "stderr",
     "output_type": "stream",
     "text": [
      "                                                                                                                       "
     ]
    },
    {
     "name": "stdout",
     "output_type": "stream",
     "text": [
      "\n",
      "📘 Epoch 12: Avg Train Loss = 0.0807\n"
     ]
    },
    {
     "name": "stderr",
     "output_type": "stream",
     "text": [
      "                                                                                                                       "
     ]
    },
    {
     "name": "stdout",
     "output_type": "stream",
     "text": [
      "🔎 Val Loss: 0.1006, mIoU: 0.5607, Dice: 0.6647\n",
      "🧾 Class 0: IoU = 0.9794, Dice = 0.9896\n",
      "🧾 Class 1: IoU = 0.2039, Dice = 0.3388\n",
      "🧾 Class 2: IoU = 0.4989, Dice = 0.6657\n",
      "✅ Best model saved! mIoU = 0.5607\n",
      "💾 Checkpoint saved at epoch 12\n"
     ]
    },
    {
     "name": "stderr",
     "output_type": "stream",
     "text": [
      "                                                                                                                       "
     ]
    },
    {
     "name": "stdout",
     "output_type": "stream",
     "text": [
      "\n",
      "📘 Epoch 13: Avg Train Loss = 0.0788\n"
     ]
    },
    {
     "name": "stderr",
     "output_type": "stream",
     "text": [
      "                                                                                                                       "
     ]
    },
    {
     "name": "stdout",
     "output_type": "stream",
     "text": [
      "🔎 Val Loss: 0.1024, mIoU: 0.5656, Dice: 0.6686\n",
      "🧾 Class 0: IoU = 0.9795, Dice = 0.9896\n",
      "🧾 Class 1: IoU = 0.2022, Dice = 0.3364\n",
      "🧾 Class 2: IoU = 0.5150, Dice = 0.6799\n",
      "✅ Best model saved! mIoU = 0.5656\n",
      "💾 Checkpoint saved at epoch 13\n"
     ]
    },
    {
     "name": "stderr",
     "output_type": "stream",
     "text": [
      "                                                                                                                       "
     ]
    },
    {
     "name": "stdout",
     "output_type": "stream",
     "text": [
      "\n",
      "📘 Epoch 14: Avg Train Loss = 0.0778\n"
     ]
    },
    {
     "name": "stderr",
     "output_type": "stream",
     "text": [
      "                                                                                                                       "
     ]
    },
    {
     "name": "stdout",
     "output_type": "stream",
     "text": [
      "🔎 Val Loss: 0.0975, mIoU: 0.5501, Dice: 0.6506\n",
      "🧾 Class 0: IoU = 0.9738, Dice = 0.9867\n",
      "🧾 Class 1: IoU = 0.1739, Dice = 0.2963\n",
      "🧾 Class 2: IoU = 0.5025, Dice = 0.6688\n",
      "💾 Checkpoint saved at epoch 14\n"
     ]
    },
    {
     "name": "stderr",
     "output_type": "stream",
     "text": [
      "                                                                                                                       "
     ]
    },
    {
     "name": "stdout",
     "output_type": "stream",
     "text": [
      "\n",
      "📘 Epoch 15: Avg Train Loss = 0.0778\n"
     ]
    },
    {
     "name": "stderr",
     "output_type": "stream",
     "text": [
      "                                                                                                                       "
     ]
    },
    {
     "name": "stdout",
     "output_type": "stream",
     "text": [
      "🔎 Val Loss: 0.1061, mIoU: 0.5599, Dice: 0.6630\n",
      "🧾 Class 0: IoU = 0.9785, Dice = 0.9891\n",
      "🧾 Class 1: IoU = 0.1974, Dice = 0.3297\n",
      "🧾 Class 2: IoU = 0.5038, Dice = 0.6700\n",
      "💾 Checkpoint saved at epoch 15\n"
     ]
    },
    {
     "name": "stderr",
     "output_type": "stream",
     "text": [
      "                                                                                                                       "
     ]
    },
    {
     "name": "stdout",
     "output_type": "stream",
     "text": [
      "\n",
      "📘 Epoch 16: Avg Train Loss = 0.0809\n"
     ]
    },
    {
     "name": "stderr",
     "output_type": "stream",
     "text": [
      "                                                                                                                       "
     ]
    },
    {
     "name": "stdout",
     "output_type": "stream",
     "text": [
      "🔎 Val Loss: 0.1040, mIoU: 0.5235, Dice: 0.6297\n",
      "🧾 Class 0: IoU = 0.9798, Dice = 0.9898\n",
      "🧾 Class 1: IoU = 0.2127, Dice = 0.3508\n",
      "🧾 Class 2: IoU = 0.3780, Dice = 0.5486\n",
      "💾 Checkpoint saved at epoch 16\n"
     ]
    },
    {
     "name": "stderr",
     "output_type": "stream",
     "text": [
      "                                                                                                                       "
     ]
    },
    {
     "name": "stdout",
     "output_type": "stream",
     "text": [
      "\n",
      "📘 Epoch 17: Avg Train Loss = 0.0772\n"
     ]
    },
    {
     "name": "stderr",
     "output_type": "stream",
     "text": [
      "                                                                                                                       "
     ]
    },
    {
     "name": "stdout",
     "output_type": "stream",
     "text": [
      "🔎 Val Loss: 0.1113, mIoU: 0.5514, Dice: 0.6539\n",
      "🧾 Class 0: IoU = 0.9765, Dice = 0.9881\n",
      "🧾 Class 1: IoU = 0.1868, Dice = 0.3148\n",
      "🧾 Class 2: IoU = 0.4911, Dice = 0.6587\n",
      "💾 Checkpoint saved at epoch 17\n"
     ]
    },
    {
     "name": "stderr",
     "output_type": "stream",
     "text": [
      "                                                                                                                       "
     ]
    },
    {
     "name": "stdout",
     "output_type": "stream",
     "text": [
      "\n",
      "📘 Epoch 18: Avg Train Loss = 0.0873\n"
     ]
    },
    {
     "name": "stderr",
     "output_type": "stream",
     "text": [
      "                                                                                                                       "
     ]
    },
    {
     "name": "stdout",
     "output_type": "stream",
     "text": [
      "🔎 Val Loss: 0.1100, mIoU: 0.5335, Dice: 0.6380\n",
      "🧾 Class 0: IoU = 0.9777, Dice = 0.9887\n",
      "🧾 Class 1: IoU = 0.1945, Dice = 0.3257\n",
      "🧾 Class 2: IoU = 0.4282, Dice = 0.5997\n",
      "💾 Checkpoint saved at epoch 18\n"
     ]
    },
    {
     "name": "stderr",
     "output_type": "stream",
     "text": [
      "                                                                                                                       "
     ]
    },
    {
     "name": "stdout",
     "output_type": "stream",
     "text": [
      "\n",
      "📘 Epoch 19: Avg Train Loss = 0.0758\n"
     ]
    },
    {
     "name": "stderr",
     "output_type": "stream",
     "text": [
      "                                                                                                                       "
     ]
    },
    {
     "name": "stdout",
     "output_type": "stream",
     "text": [
      "🔎 Val Loss: 0.0961, mIoU: 0.5292, Dice: 0.6338\n",
      "🧾 Class 0: IoU = 0.9766, Dice = 0.9882\n",
      "🧾 Class 1: IoU = 0.1929, Dice = 0.3234\n",
      "🧾 Class 2: IoU = 0.4182, Dice = 0.5898\n",
      "💾 Checkpoint saved at epoch 19\n"
     ]
    },
    {
     "name": "stderr",
     "output_type": "stream",
     "text": [
      "                                                                                                                       "
     ]
    },
    {
     "name": "stdout",
     "output_type": "stream",
     "text": [
      "\n",
      "📘 Epoch 20: Avg Train Loss = 0.0736\n"
     ]
    },
    {
     "name": "stderr",
     "output_type": "stream",
     "text": [
      "                                                                                                                       "
     ]
    },
    {
     "name": "stdout",
     "output_type": "stream",
     "text": [
      "🔎 Val Loss: 0.0980, mIoU: 0.5407, Dice: 0.6435\n",
      "🧾 Class 0: IoU = 0.9751, Dice = 0.9874\n",
      "🧾 Class 1: IoU = 0.1827, Dice = 0.3089\n",
      "🧾 Class 2: IoU = 0.4642, Dice = 0.6341\n",
      "💾 Checkpoint saved at epoch 20\n"
     ]
    },
    {
     "name": "stderr",
     "output_type": "stream",
     "text": [
      "                                                                                                                       "
     ]
    },
    {
     "name": "stdout",
     "output_type": "stream",
     "text": [
      "\n",
      "📘 Epoch 21: Avg Train Loss = 0.0721\n"
     ]
    },
    {
     "name": "stderr",
     "output_type": "stream",
     "text": [
      "                                                                                                                       "
     ]
    },
    {
     "name": "stdout",
     "output_type": "stream",
     "text": [
      "🔎 Val Loss: 0.1058, mIoU: 0.5766, Dice: 0.6786\n",
      "🧾 Class 0: IoU = 0.9799, Dice = 0.9899\n",
      "🧾 Class 1: IoU = 0.2053, Dice = 0.3407\n",
      "🧾 Class 2: IoU = 0.5446, Dice = 0.7052\n",
      "✅ Best model saved! mIoU = 0.5766\n",
      "💾 Checkpoint saved at epoch 21\n"
     ]
    },
    {
     "name": "stderr",
     "output_type": "stream",
     "text": [
      "                                                                                                                       "
     ]
    },
    {
     "name": "stdout",
     "output_type": "stream",
     "text": [
      "\n",
      "📘 Epoch 22: Avg Train Loss = 0.0723\n"
     ]
    },
    {
     "name": "stderr",
     "output_type": "stream",
     "text": [
      "                                                                                                                       "
     ]
    },
    {
     "name": "stdout",
     "output_type": "stream",
     "text": [
      "🔎 Val Loss: 0.1104, mIoU: 0.5524, Dice: 0.6542\n",
      "🧾 Class 0: IoU = 0.9759, Dice = 0.9878\n",
      "🧾 Class 1: IoU = 0.1835, Dice = 0.3101\n",
      "🧾 Class 2: IoU = 0.4976, Dice = 0.6646\n",
      "💾 Checkpoint saved at epoch 22\n"
     ]
    },
    {
     "name": "stderr",
     "output_type": "stream",
     "text": [
      "                                                                                                                       "
     ]
    },
    {
     "name": "stdout",
     "output_type": "stream",
     "text": [
      "\n",
      "📘 Epoch 23: Avg Train Loss = 0.0760\n"
     ]
    },
    {
     "name": "stderr",
     "output_type": "stream",
     "text": [
      "                                                                                                                       "
     ]
    },
    {
     "name": "stdout",
     "output_type": "stream",
     "text": [
      "🔎 Val Loss: 0.1181, mIoU: 0.5573, Dice: 0.6601\n",
      "🧾 Class 0: IoU = 0.9779, Dice = 0.9888\n",
      "🧾 Class 1: IoU = 0.1940, Dice = 0.3249\n",
      "🧾 Class 2: IoU = 0.4999, Dice = 0.6666\n",
      "💾 Checkpoint saved at epoch 23\n"
     ]
    },
    {
     "name": "stderr",
     "output_type": "stream",
     "text": [
      "                                                                                                                       "
     ]
    },
    {
     "name": "stdout",
     "output_type": "stream",
     "text": [
      "\n",
      "📘 Epoch 24: Avg Train Loss = 0.0718\n"
     ]
    },
    {
     "name": "stderr",
     "output_type": "stream",
     "text": [
      "                                                                                                                       "
     ]
    },
    {
     "name": "stdout",
     "output_type": "stream",
     "text": [
      "🔎 Val Loss: 0.1047, mIoU: 0.5644, Dice: 0.6687\n",
      "🧾 Class 0: IoU = 0.9803, Dice = 0.9901\n",
      "🧾 Class 1: IoU = 0.2099, Dice = 0.3470\n",
      "🧾 Class 2: IoU = 0.5029, Dice = 0.6692\n",
      "💾 Checkpoint saved at epoch 24\n"
     ]
    },
    {
     "name": "stderr",
     "output_type": "stream",
     "text": [
      "                                                                                                                       "
     ]
    },
    {
     "name": "stdout",
     "output_type": "stream",
     "text": [
      "\n",
      "📘 Epoch 25: Avg Train Loss = 0.0706\n"
     ]
    },
    {
     "name": "stderr",
     "output_type": "stream",
     "text": [
      "                                                                                                                       "
     ]
    },
    {
     "name": "stdout",
     "output_type": "stream",
     "text": [
      "🔎 Val Loss: 0.1025, mIoU: 0.5770, Dice: 0.6778\n",
      "🧾 Class 0: IoU = 0.9787, Dice = 0.9892\n",
      "🧾 Class 1: IoU = 0.1988, Dice = 0.3316\n",
      "🧾 Class 2: IoU = 0.5534, Dice = 0.7125\n",
      "✅ Best model saved! mIoU = 0.5770\n",
      "💾 Checkpoint saved at epoch 25\n"
     ]
    },
    {
     "name": "stderr",
     "output_type": "stream",
     "text": [
      "                                                                                                                       "
     ]
    },
    {
     "name": "stdout",
     "output_type": "stream",
     "text": [
      "\n",
      "📘 Epoch 26: Avg Train Loss = 0.0692\n"
     ]
    },
    {
     "name": "stderr",
     "output_type": "stream",
     "text": [
      "                                                                                                                       "
     ]
    },
    {
     "name": "stdout",
     "output_type": "stream",
     "text": [
      "🔎 Val Loss: 0.0949, mIoU: 0.5665, Dice: 0.6673\n",
      "🧾 Class 0: IoU = 0.9768, Dice = 0.9883\n",
      "🧾 Class 1: IoU = 0.1889, Dice = 0.3178\n",
      "🧾 Class 2: IoU = 0.5337, Dice = 0.6959\n",
      "💾 Checkpoint saved at epoch 26\n"
     ]
    },
    {
     "name": "stderr",
     "output_type": "stream",
     "text": [
      "                                                                                                                       "
     ]
    },
    {
     "name": "stdout",
     "output_type": "stream",
     "text": [
      "\n",
      "📘 Epoch 27: Avg Train Loss = 0.0709\n"
     ]
    },
    {
     "name": "stderr",
     "output_type": "stream",
     "text": [
      "                                                                                                                       "
     ]
    },
    {
     "name": "stdout",
     "output_type": "stream",
     "text": [
      "🔎 Val Loss: 0.1109, mIoU: 0.5562, Dice: 0.6566\n",
      "🧾 Class 0: IoU = 0.9746, Dice = 0.9871\n",
      "🧾 Class 1: IoU = 0.1772, Dice = 0.3010\n",
      "🧾 Class 2: IoU = 0.5169, Dice = 0.6816\n",
      "💾 Checkpoint saved at epoch 27\n"
     ]
    },
    {
     "name": "stderr",
     "output_type": "stream",
     "text": [
      "                                                                                                                       "
     ]
    },
    {
     "name": "stdout",
     "output_type": "stream",
     "text": [
      "\n",
      "📘 Epoch 28: Avg Train Loss = 0.0697\n"
     ]
    },
    {
     "name": "stderr",
     "output_type": "stream",
     "text": [
      "                                                                                                                       "
     ]
    },
    {
     "name": "stdout",
     "output_type": "stream",
     "text": [
      "🔎 Val Loss: 0.1118, mIoU: 0.5646, Dice: 0.6666\n",
      "🧾 Class 0: IoU = 0.9779, Dice = 0.9888\n",
      "🧾 Class 1: IoU = 0.1941, Dice = 0.3251\n",
      "🧾 Class 2: IoU = 0.5219, Dice = 0.6859\n",
      "💾 Checkpoint saved at epoch 28\n"
     ]
    },
    {
     "name": "stderr",
     "output_type": "stream",
     "text": [
      "                                                                                                                       "
     ]
    },
    {
     "name": "stdout",
     "output_type": "stream",
     "text": [
      "\n",
      "📘 Epoch 29: Avg Train Loss = 0.0679\n"
     ]
    },
    {
     "name": "stderr",
     "output_type": "stream",
     "text": [
      "                                                                                                                       "
     ]
    },
    {
     "name": "stdout",
     "output_type": "stream",
     "text": [
      "🔎 Val Loss: 0.1017, mIoU: 0.5757, Dice: 0.6767\n",
      "🧾 Class 0: IoU = 0.9788, Dice = 0.9893\n",
      "🧾 Class 1: IoU = 0.1989, Dice = 0.3318\n",
      "🧾 Class 2: IoU = 0.5493, Dice = 0.7091\n",
      "💾 Checkpoint saved at epoch 29\n"
     ]
    },
    {
     "name": "stderr",
     "output_type": "stream",
     "text": [
      "                                                                                                                       "
     ]
    },
    {
     "name": "stdout",
     "output_type": "stream",
     "text": [
      "\n",
      "📘 Epoch 30: Avg Train Loss = 0.0688\n"
     ]
    },
    {
     "name": "stderr",
     "output_type": "stream",
     "text": [
      "                                                                                                                       "
     ]
    },
    {
     "name": "stdout",
     "output_type": "stream",
     "text": [
      "🔎 Val Loss: 0.1010, mIoU: 0.5839, Dice: 0.6830\n",
      "🧾 Class 0: IoU = 0.9783, Dice = 0.9890\n",
      "🧾 Class 1: IoU = 0.1960, Dice = 0.3278\n",
      "🧾 Class 2: IoU = 0.5774, Dice = 0.7321\n",
      "✅ Best model saved! mIoU = 0.5839\n",
      "💾 Checkpoint saved at epoch 30\n",
      "📦 Final model saved to: segformer_last.pth\n"
     ]
    },
    {
     "data": {
      "image/png": "[encoded data removed]",
      "text/plain": [
       "<Figure size 1000x500 with 1 Axes>"
      ]
     },
     "metadata": {},
     "output_type": "display_data"
    }
   ],
   "source": [
    "train_model(\n",
    "    model=model,  # SegformerForSemanticSegmentation model\n",
    "    train_loader=train_loader,\n",
    "    val_loader=val_loader,\n",
    "    criterion=criterion,\n",
    "    optimizer=optimizer,\n",
    "    num_epochs=30,\n",
    "    save_path=\"segformer_best.pth\",\n",
    "    last_model_path=\"segformer_last.pth\",\n",
    "    checkpoint_path=\"segformer_checkpoint.pth\"\n",
    ")"
   ]
  },
  {
   "cell_type": "code",
   "execution_count": 25,
   "id": "eca4fd3f-2817-4070-92d2-53a4c395d95a",
   "metadata": {},
   "outputs": [
    {
     "name": "stdout",
     "output_type": "stream",
     "text": [
      "🔁 Resuming from checkpoint...\n"
     ]
    },
    {
     "name": "stderr",
     "output_type": "stream",
     "text": [
      "C:\\Users\\SHREY\\AppData\\Local\\Temp\\ipykernel_19232\\470420776.py:29: FutureWarning: You are using `torch.load` with `weights_only=False` (the current default value), which uses the default pickle module implicitly. It is possible to construct malicious pickle data which will execute arbitrary code during unpickling (See https://github.com/pytorch/pytorch/blob/main/SECURITY.md#untrusted-models for more details). In a future release, the default value for `weights_only` will be flipped to `True`. This limits the functions that could be executed during unpickling. Arbitrary objects will no longer be allowed to be loaded via this mode unless they are explicitly allowlisted by the user via `torch.serialization.add_safe_globals`. We recommend you start setting `weights_only=True` for any use case where you don't have full control of the loaded file. Please open an issue on GitHub for any issues related to this experimental feature.\n",
      "  checkpoint = torch.load(checkpoint_path, map_location=device)\n"
     ]
    },
    {
     "name": "stdout",
     "output_type": "stream",
     "text": [
      "➡️ Resumed from epoch 30, Best mIoU so far: 0.5839\n",
      "📟 Using device: cuda\n"
     ]
    },
    {
     "name": "stderr",
     "output_type": "stream",
     "text": [
      "                                                                                                                       "
     ]
    },
    {
     "name": "stdout",
     "output_type": "stream",
     "text": [
      "\n",
      "📘 Epoch 31: Avg Train Loss = 0.0835\n"
     ]
    },
    {
     "name": "stderr",
     "output_type": "stream",
     "text": [
      "                                                                                                                       "
     ]
    },
    {
     "name": "stdout",
     "output_type": "stream",
     "text": [
      "🔎 Val Loss: 0.1404, mIoU: 0.5285, Dice: 0.6290\n",
      "🧾 Class 0: IoU = 0.9709, Dice = 0.9853\n",
      "🧾 Class 1: IoU = 0.1618, Dice = 0.2785\n",
      "🧾 Class 2: IoU = 0.4528, Dice = 0.6233\n",
      "💾 Checkpoint saved at epoch 31\n"
     ]
    },
    {
     "name": "stderr",
     "output_type": "stream",
     "text": [
      "                                                                                                                       "
     ]
    },
    {
     "name": "stdout",
     "output_type": "stream",
     "text": [
      "\n",
      "📘 Epoch 32: Avg Train Loss = 0.0829\n"
     ]
    },
    {
     "name": "stderr",
     "output_type": "stream",
     "text": [
      "                                                                                                                       "
     ]
    },
    {
     "name": "stdout",
     "output_type": "stream",
     "text": [
      "🔎 Val Loss: 0.1143, mIoU: 0.5632, Dice: 0.6568\n",
      "🧾 Class 0: IoU = 0.9670, Dice = 0.9832\n",
      "🧾 Class 1: IoU = 0.1474, Dice = 0.2569\n",
      "🧾 Class 2: IoU = 0.5751, Dice = 0.7302\n",
      "💾 Checkpoint saved at epoch 32\n"
     ]
    },
    {
     "name": "stderr",
     "output_type": "stream",
     "text": [
      "                                                                                                                       "
     ]
    },
    {
     "name": "stdout",
     "output_type": "stream",
     "text": [
      "\n",
      "📘 Epoch 33: Avg Train Loss = 0.0837\n"
     ]
    },
    {
     "name": "stderr",
     "output_type": "stream",
     "text": [
      "                                                                                                                       "
     ]
    },
    {
     "name": "stdout",
     "output_type": "stream",
     "text": [
      "🔎 Val Loss: 0.1282, mIoU: 0.5294, Dice: 0.6290\n",
      "🧾 Class 0: IoU = 0.9689, Dice = 0.9842\n",
      "🧾 Class 1: IoU = 0.1551, Dice = 0.2686\n",
      "🧾 Class 2: IoU = 0.4643, Dice = 0.6342\n",
      "💾 Checkpoint saved at epoch 33\n"
     ]
    },
    {
     "name": "stderr",
     "output_type": "stream",
     "text": [
      "                                                                                                                       "
     ]
    },
    {
     "name": "stdout",
     "output_type": "stream",
     "text": [
      "\n",
      "📘 Epoch 34: Avg Train Loss = 0.1010\n"
     ]
    },
    {
     "name": "stderr",
     "output_type": "stream",
     "text": [
      "                                                                                                                       "
     ]
    },
    {
     "name": "stdout",
     "output_type": "stream",
     "text": [
      "🔎 Val Loss: 0.1219, mIoU: 0.5513, Dice: 0.6493\n",
      "🧾 Class 0: IoU = 0.9707, Dice = 0.9851\n",
      "🧾 Class 1: IoU = 0.1598, Dice = 0.2756\n",
      "🧾 Class 2: IoU = 0.5233, Dice = 0.6870\n",
      "💾 Checkpoint saved at epoch 34\n"
     ]
    },
    {
     "name": "stderr",
     "output_type": "stream",
     "text": [
      "                                                                                                                       "
     ]
    },
    {
     "name": "stdout",
     "output_type": "stream",
     "text": [
      "\n",
      "📘 Epoch 35: Avg Train Loss = 0.0906\n"
     ]
    },
    {
     "name": "stderr",
     "output_type": "stream",
     "text": [
      "                                                                                                                       "
     ]
    },
    {
     "name": "stdout",
     "output_type": "stream",
     "text": [
      "🔎 Val Loss: 0.1184, mIoU: 0.5553, Dice: 0.6520\n",
      "🧾 Class 0: IoU = 0.9696, Dice = 0.9846\n",
      "🧾 Class 1: IoU = 0.1561, Dice = 0.2700\n",
      "🧾 Class 2: IoU = 0.5401, Dice = 0.7014\n",
      "💾 Checkpoint saved at epoch 35\n"
     ]
    },
    {
     "name": "stderr",
     "output_type": "stream",
     "text": [
      "                                                                                                                       "
     ]
    },
    {
     "name": "stdout",
     "output_type": "stream",
     "text": [
      "\n",
      "📘 Epoch 36: Avg Train Loss = 0.0843\n"
     ]
    },
    {
     "name": "stderr",
     "output_type": "stream",
     "text": [
      "                                                                                                                       "
     ]
    },
    {
     "name": "stdout",
     "output_type": "stream",
     "text": [
      "🔎 Val Loss: 0.1264, mIoU: 0.5730, Dice: 0.6702\n",
      "🧾 Class 0: IoU = 0.9742, Dice = 0.9869\n",
      "🧾 Class 1: IoU = 0.1748, Dice = 0.2976\n",
      "🧾 Class 2: IoU = 0.5699, Dice = 0.7260\n",
      "💾 Checkpoint saved at epoch 36\n"
     ]
    },
    {
     "name": "stderr",
     "output_type": "stream",
     "text": [
      "                                                                                                                       "
     ]
    },
    {
     "name": "stdout",
     "output_type": "stream",
     "text": [
      "\n",
      "📘 Epoch 37: Avg Train Loss = 0.0806\n"
     ]
    },
    {
     "name": "stderr",
     "output_type": "stream",
     "text": [
      "                                                                                                                       "
     ]
    },
    {
     "name": "stdout",
     "output_type": "stream",
     "text": [
      "🔎 Val Loss: 0.1174, mIoU: 0.5599, Dice: 0.6556\n",
      "🧾 Class 0: IoU = 0.9690, Dice = 0.9843\n",
      "🧾 Class 1: IoU = 0.1545, Dice = 0.2677\n",
      "🧾 Class 2: IoU = 0.5562, Dice = 0.7148\n",
      "💾 Checkpoint saved at epoch 37\n"
     ]
    },
    {
     "name": "stderr",
     "output_type": "stream",
     "text": [
      "                                                                                                                       "
     ]
    },
    {
     "name": "stdout",
     "output_type": "stream",
     "text": [
      "\n",
      "📘 Epoch 38: Avg Train Loss = 0.0802\n"
     ]
    },
    {
     "name": "stderr",
     "output_type": "stream",
     "text": [
      "                                                                                                                       "
     ]
    },
    {
     "name": "stdout",
     "output_type": "stream",
     "text": [
      "🔎 Val Loss: 0.1292, mIoU: 0.5758, Dice: 0.6738\n",
      "🧾 Class 0: IoU = 0.9755, Dice = 0.9876\n",
      "🧾 Class 1: IoU = 0.1818, Dice = 0.3076\n",
      "🧾 Class 2: IoU = 0.5700, Dice = 0.7261\n",
      "💾 Checkpoint saved at epoch 38\n"
     ]
    },
    {
     "name": "stderr",
     "output_type": "stream",
     "text": [
      "                                                                                                                       "
     ]
    },
    {
     "name": "stdout",
     "output_type": "stream",
     "text": [
      "\n",
      "📘 Epoch 39: Avg Train Loss = 0.0786\n"
     ]
    },
    {
     "name": "stderr",
     "output_type": "stream",
     "text": [
      "                                                                                                                       "
     ]
    },
    {
     "name": "stdout",
     "output_type": "stream",
     "text": [
      "🔎 Val Loss: 0.1186, mIoU: 0.5490, Dice: 0.6482\n",
      "🧾 Class 0: IoU = 0.9712, Dice = 0.9854\n",
      "🧾 Class 1: IoU = 0.1646, Dice = 0.2827\n",
      "🧾 Class 2: IoU = 0.5113, Dice = 0.6766\n",
      "💾 Checkpoint saved at epoch 39\n"
     ]
    },
    {
     "name": "stderr",
     "output_type": "stream",
     "text": [
      "                                                                                                                       "
     ]
    },
    {
     "name": "stdout",
     "output_type": "stream",
     "text": [
      "\n",
      "📘 Epoch 40: Avg Train Loss = 0.0785\n"
     ]
    },
    {
     "name": "stderr",
     "output_type": "stream",
     "text": [
      "                                                                                                                       "
     ]
    },
    {
     "name": "stdout",
     "output_type": "stream",
     "text": [
      "🔎 Val Loss: 0.1273, mIoU: 0.5767, Dice: 0.6719\n",
      "🧾 Class 0: IoU = 0.9728, Dice = 0.9862\n",
      "🧾 Class 1: IoU = 0.1682, Dice = 0.2880\n",
      "🧾 Class 2: IoU = 0.5890, Dice = 0.7414\n",
      "💾 Checkpoint saved at epoch 40\n",
      "📦 Final model saved to: segformer_last.pth\n"
     ]
    },
    {
     "data": {
      "image/png": "[encoded data removed]",
      "text/plain": [
       "<Figure size 1000x500 with 1 Axes>"
      ]
     },
     "metadata": {},
     "output_type": "display_data"
    }
   ],
   "source": [
    "train_model(\n",
    "    model=model,  # SegformerForSemanticSegmentation model\n",
    "    train_loader=train_loader,\n",
    "    val_loader=val_loader,\n",
    "    criterion=criterion,\n",
    "    optimizer=optimizer,\n",
    "    num_epochs=40,\n",
    "    save_path=\"segformer_best.pth\",\n",
    "    last_model_path=\"segformer_last.pth\",\n",
    "    checkpoint_path=\"segformer_checkpoint.pth\"\n",
    ")"
   ]
  },
  {
   "cell_type": "code",
   "execution_count": 36,
   "id": "33992fb3-5fbf-401b-9049-12149ec3ec79",
   "metadata": {},
   "outputs": [
    {
     "name": "stdout",
     "output_type": "stream",
     "text": [
      "🔁 Resuming from checkpoint...\n"
     ]
    },
    {
     "name": "stderr",
     "output_type": "stream",
     "text": [
      "C:\\Users\\SHREY\\AppData\\Local\\Temp\\ipykernel_19232\\470420776.py:29: FutureWarning: You are using `torch.load` with `weights_only=False` (the current default value), which uses the default pickle module implicitly. It is possible to construct malicious pickle data which will execute arbitrary code during unpickling (See https://github.com/pytorch/pytorch/blob/main/SECURITY.md#untrusted-models for more details). In a future release, the default value for `weights_only` will be flipped to `True`. This limits the functions that could be executed during unpickling. Arbitrary objects will no longer be allowed to be loaded via this mode unless they are explicitly allowlisted by the user via `torch.serialization.add_safe_globals`. We recommend you start setting `weights_only=True` for any use case where you don't have full control of the loaded file. Please open an issue on GitHub for any issues related to this experimental feature.\n",
      "  checkpoint = torch.load(checkpoint_path, map_location=device)\n"
     ]
    },
    {
     "name": "stdout",
     "output_type": "stream",
     "text": [
      "➡️ Resumed from epoch 45, Best mIoU so far: 0.5839\n",
      "📟 Using device: cuda\n"
     ]
    },
    {
     "name": "stderr",
     "output_type": "stream",
     "text": [
      "                                                                                                                       "
     ]
    },
    {
     "name": "stdout",
     "output_type": "stream",
     "text": [
      "\n",
      "📘 Epoch 46: Avg Train Loss = 0.0647\n"
     ]
    },
    {
     "name": "stderr",
     "output_type": "stream",
     "text": [
      "                                                                                                                       "
     ]
    },
    {
     "name": "stdout",
     "output_type": "stream",
     "text": [
      "🔎 Val Loss: 0.1056, mIoU: 0.5933, Dice: 0.6934\n",
      "🧾 Class 0: IoU = 0.9810, Dice = 0.9904\n",
      "🧾 Class 1: IoU = 0.2128, Dice = 0.3509\n",
      "🧾 Class 2: IoU = 0.5861, Dice = 0.7390\n",
      "✅ Best model saved! mIoU = 0.5933\n",
      "💾 Checkpoint saved at epoch 46\n"
     ]
    },
    {
     "name": "stderr",
     "output_type": "stream",
     "text": [
      "                                                                                                                       "
     ]
    },
    {
     "name": "stdout",
     "output_type": "stream",
     "text": [
      "\n",
      "📘 Epoch 47: Avg Train Loss = 0.0629\n"
     ]
    },
    {
     "name": "stderr",
     "output_type": "stream",
     "text": [
      "                                                                                                                       "
     ]
    },
    {
     "name": "stdout",
     "output_type": "stream",
     "text": [
      "🔎 Val Loss: 0.1071, mIoU: 0.5866, Dice: 0.6871\n",
      "🧾 Class 0: IoU = 0.9801, Dice = 0.9899\n",
      "🧾 Class 1: IoU = 0.2072, Dice = 0.3432\n",
      "🧾 Class 2: IoU = 0.5726, Dice = 0.7282\n",
      "💾 Checkpoint saved at epoch 47\n"
     ]
    },
    {
     "name": "stderr",
     "output_type": "stream",
     "text": [
      "                                                                                                                       "
     ]
    },
    {
     "name": "stdout",
     "output_type": "stream",
     "text": [
      "\n",
      "📘 Epoch 48: Avg Train Loss = 0.0627\n"
     ]
    },
    {
     "name": "stderr",
     "output_type": "stream",
     "text": [
      "                                                                                                                       "
     ]
    },
    {
     "name": "stdout",
     "output_type": "stream",
     "text": [
      "🔎 Val Loss: 0.1031, mIoU: 0.5859, Dice: 0.6856\n",
      "🧾 Class 0: IoU = 0.9791, Dice = 0.9895\n",
      "🧾 Class 1: IoU = 0.2015, Dice = 0.3354\n",
      "🧾 Class 2: IoU = 0.5770, Dice = 0.7318\n",
      "💾 Checkpoint saved at epoch 48\n"
     ]
    },
    {
     "name": "stderr",
     "output_type": "stream",
     "text": [
      "                                                                                                                       "
     ]
    },
    {
     "name": "stdout",
     "output_type": "stream",
     "text": [
      "\n",
      "📘 Epoch 49: Avg Train Loss = 0.0643\n"
     ]
    },
    {
     "name": "stderr",
     "output_type": "stream",
     "text": [
      "                                                                                                                       "
     ]
    },
    {
     "name": "stdout",
     "output_type": "stream",
     "text": [
      "🔎 Val Loss: 0.1073, mIoU: 0.5829, Dice: 0.6835\n",
      "🧾 Class 0: IoU = 0.9797, Dice = 0.9897\n",
      "🧾 Class 1: IoU = 0.2036, Dice = 0.3383\n",
      "🧾 Class 2: IoU = 0.5656, Dice = 0.7225\n",
      "💾 Checkpoint saved at epoch 49\n"
     ]
    },
    {
     "name": "stderr",
     "output_type": "stream",
     "text": [
      "                                                                                                                       "
     ]
    },
    {
     "name": "stdout",
     "output_type": "stream",
     "text": [
      "\n",
      "📘 Epoch 50: Avg Train Loss = 0.0633\n"
     ]
    },
    {
     "name": "stderr",
     "output_type": "stream",
     "text": [
      "                                                                                                                       "
     ]
    },
    {
     "name": "stdout",
     "output_type": "stream",
     "text": [
      "🔎 Val Loss: 0.1136, mIoU: 0.5765, Dice: 0.6796\n",
      "🧾 Class 0: IoU = 0.9807, Dice = 0.9903\n",
      "🧾 Class 1: IoU = 0.2124, Dice = 0.3504\n",
      "🧾 Class 2: IoU = 0.5363, Dice = 0.6982\n",
      "💾 Checkpoint saved at epoch 50\n",
      "📦 Final model saved to: segformer_last.pth\n"
     ]
    },
    {
     "data": {
      "image/png": "[encoded data removed]",
      "text/plain": [
       "<Figure size 1000x500 with 1 Axes>"
      ]
     },
     "metadata": {},
     "output_type": "display_data"
    }
   ],
   "source": [
    "train_model(\n",
    "    model=model,  # SegformerForSemanticSegmentation model\n",
    "    train_loader=train_loader,\n",
    "    val_loader=val_loader,\n",
    "    criterion=criterion,\n",
    "    optimizer=optimizer,\n",
    "    num_epochs=50,\n",
    "    save_path=\"segformer_best.pth\",\n",
    "    last_model_path=\"segformer_last.pth\",\n",
    "    checkpoint_path=\"segformer_checkpoint.pth\"\n",
    ")"
   ]
  },
  {
   "cell_type": "code",
   "execution_count": 37,
   "id": "6d69ded9-4b2a-4e1d-91ae-82481a260892",
   "metadata": {},
   "outputs": [
    {
     "name": "stdout",
     "output_type": "stream",
     "text": [
      "🔁 Resuming from checkpoint...\n"
     ]
    },
    {
     "name": "stderr",
     "output_type": "stream",
     "text": [
      "C:\\Users\\SHREY\\AppData\\Local\\Temp\\ipykernel_19232\\470420776.py:29: FutureWarning: You are using `torch.load` with `weights_only=False` (the current default value), which uses the default pickle module implicitly. It is possible to construct malicious pickle data which will execute arbitrary code during unpickling (See https://github.com/pytorch/pytorch/blob/main/SECURITY.md#untrusted-models for more details). In a future release, the default value for `weights_only` will be flipped to `True`. This limits the functions that could be executed during unpickling. Arbitrary objects will no longer be allowed to be loaded via this mode unless they are explicitly allowlisted by the user via `torch.serialization.add_safe_globals`. We recommend you start setting `weights_only=True` for any use case where you don't have full control of the loaded file. Please open an issue on GitHub for any issues related to this experimental feature.\n",
      "  checkpoint = torch.load(checkpoint_path, map_location=device)\n"
     ]
    },
    {
     "name": "stdout",
     "output_type": "stream",
     "text": [
      "➡️ Resumed from epoch 50, Best mIoU so far: 0.5933\n",
      "📟 Using device: cuda\n"
     ]
    },
    {
     "name": "stderr",
     "output_type": "stream",
     "text": [
      "                                                                                                                       "
     ]
    },
    {
     "name": "stdout",
     "output_type": "stream",
     "text": [
      "\n",
      "📘 Epoch 51: Avg Train Loss = 0.0627\n"
     ]
    },
    {
     "name": "stderr",
     "output_type": "stream",
     "text": [
      "                                                                                                                       "
     ]
    },
    {
     "name": "stdout",
     "output_type": "stream",
     "text": [
      "🔎 Val Loss: 0.1031, mIoU: 0.5599, Dice: 0.6624\n",
      "🧾 Class 0: IoU = 0.9775, Dice = 0.9886\n",
      "🧾 Class 1: IoU = 0.1933, Dice = 0.3240\n",
      "🧾 Class 2: IoU = 0.5090, Dice = 0.6746\n",
      "💾 Checkpoint saved at epoch 51\n"
     ]
    },
    {
     "name": "stderr",
     "output_type": "stream",
     "text": [
      "                                                                                                                       "
     ]
    },
    {
     "name": "stdout",
     "output_type": "stream",
     "text": [
      "\n",
      "📘 Epoch 52: Avg Train Loss = 0.0631\n"
     ]
    },
    {
     "name": "stderr",
     "output_type": "stream",
     "text": [
      "                                                                                                                       "
     ]
    },
    {
     "name": "stdout",
     "output_type": "stream",
     "text": [
      "🔎 Val Loss: 0.1037, mIoU: 0.5773, Dice: 0.6773\n",
      "🧾 Class 0: IoU = 0.9778, Dice = 0.9888\n",
      "🧾 Class 1: IoU = 0.1940, Dice = 0.3249\n",
      "🧾 Class 2: IoU = 0.5603, Dice = 0.7182\n",
      "💾 Checkpoint saved at epoch 52\n"
     ]
    },
    {
     "name": "stderr",
     "output_type": "stream",
     "text": [
      "                                                                                                                       "
     ]
    },
    {
     "name": "stdout",
     "output_type": "stream",
     "text": [
      "\n",
      "📘 Epoch 53: Avg Train Loss = 0.0636\n"
     ]
    },
    {
     "name": "stderr",
     "output_type": "stream",
     "text": [
      "                                                                                                                       "
     ]
    },
    {
     "name": "stdout",
     "output_type": "stream",
     "text": [
      "🔎 Val Loss: 0.1056, mIoU: 0.5843, Dice: 0.6849\n",
      "🧾 Class 0: IoU = 0.9795, Dice = 0.9897\n",
      "🧾 Class 1: IoU = 0.2049, Dice = 0.3402\n",
      "🧾 Class 2: IoU = 0.5683, Dice = 0.7247\n",
      "💾 Checkpoint saved at epoch 53\n"
     ]
    },
    {
     "name": "stderr",
     "output_type": "stream",
     "text": [
      "                                                                                                                       "
     ]
    },
    {
     "name": "stdout",
     "output_type": "stream",
     "text": [
      "\n",
      "📘 Epoch 54: Avg Train Loss = 0.0638\n"
     ]
    },
    {
     "name": "stderr",
     "output_type": "stream",
     "text": [
      "                                                                                                                       "
     ]
    },
    {
     "name": "stdout",
     "output_type": "stream",
     "text": [
      "🔎 Val Loss: 0.1122, mIoU: 0.5719, Dice: 0.6764\n",
      "🧾 Class 0: IoU = 0.9813, Dice = 0.9906\n",
      "🧾 Class 1: IoU = 0.2171, Dice = 0.3568\n",
      "🧾 Class 2: IoU = 0.5173, Dice = 0.6819\n",
      "💾 Checkpoint saved at epoch 54\n"
     ]
    },
    {
     "name": "stderr",
     "output_type": "stream",
     "text": [
      "                                                                                                                       "
     ]
    },
    {
     "name": "stdout",
     "output_type": "stream",
     "text": [
      "\n",
      "📘 Epoch 55: Avg Train Loss = 0.0630\n"
     ]
    },
    {
     "name": "stderr",
     "output_type": "stream",
     "text": [
      "                                                                                                                       "
     ]
    },
    {
     "name": "stdout",
     "output_type": "stream",
     "text": [
      "🔎 Val Loss: 0.1063, mIoU: 0.5945, Dice: 0.6950\n",
      "🧾 Class 0: IoU = 0.9817, Dice = 0.9908\n",
      "🧾 Class 1: IoU = 0.2166, Dice = 0.3560\n",
      "🧾 Class 2: IoU = 0.5851, Dice = 0.7383\n",
      "✅ Best model saved! mIoU = 0.5945\n",
      "💾 Checkpoint saved at epoch 55\n"
     ]
    },
    {
     "name": "stderr",
     "output_type": "stream",
     "text": [
      "                                                                                                                       "
     ]
    },
    {
     "name": "stdout",
     "output_type": "stream",
     "text": [
      "\n",
      "📘 Epoch 56: Avg Train Loss = 0.0616\n"
     ]
    },
    {
     "name": "stderr",
     "output_type": "stream",
     "text": [
      "                                                                                                                       "
     ]
    },
    {
     "name": "stdout",
     "output_type": "stream",
     "text": [
      "🔎 Val Loss: 0.1056, mIoU: 0.6007, Dice: 0.6988\n",
      "🧾 Class 0: IoU = 0.9809, Dice = 0.9904\n",
      "🧾 Class 1: IoU = 0.2107, Dice = 0.3481\n",
      "🧾 Class 2: IoU = 0.6104, Dice = 0.7581\n",
      "✅ Best model saved! mIoU = 0.6007\n",
      "💾 Checkpoint saved at epoch 56\n"
     ]
    },
    {
     "name": "stderr",
     "output_type": "stream",
     "text": [
      "                                                                                                                       "
     ]
    },
    {
     "name": "stdout",
     "output_type": "stream",
     "text": [
      "\n",
      "📘 Epoch 57: Avg Train Loss = 0.0619\n"
     ]
    },
    {
     "name": "stderr",
     "output_type": "stream",
     "text": [
      "                                                                                                                       "
     ]
    },
    {
     "name": "stdout",
     "output_type": "stream",
     "text": [
      "🔎 Val Loss: 0.0991, mIoU: 0.5898, Dice: 0.6877\n",
      "🧾 Class 0: IoU = 0.9783, Dice = 0.9890\n",
      "🧾 Class 1: IoU = 0.1959, Dice = 0.3276\n",
      "🧾 Class 2: IoU = 0.5953, Dice = 0.7463\n",
      "💾 Checkpoint saved at epoch 57\n"
     ]
    },
    {
     "name": "stderr",
     "output_type": "stream",
     "text": [
      "                                                                                                                       "
     ]
    },
    {
     "name": "stdout",
     "output_type": "stream",
     "text": [
      "\n",
      "📘 Epoch 58: Avg Train Loss = 0.0613\n"
     ]
    },
    {
     "name": "stderr",
     "output_type": "stream",
     "text": [
      "                                                                                                                       "
     ]
    },
    {
     "name": "stdout",
     "output_type": "stream",
     "text": [
      "🔎 Val Loss: 0.1097, mIoU: 0.5983, Dice: 0.6970\n",
      "🧾 Class 0: IoU = 0.9808, Dice = 0.9903\n",
      "🧾 Class 1: IoU = 0.2107, Dice = 0.3481\n",
      "🧾 Class 2: IoU = 0.6035, Dice = 0.7527\n",
      "💾 Checkpoint saved at epoch 58\n"
     ]
    },
    {
     "name": "stderr",
     "output_type": "stream",
     "text": [
      "                                                                                                                       "
     ]
    },
    {
     "name": "stdout",
     "output_type": "stream",
     "text": [
      "\n",
      "📘 Epoch 59: Avg Train Loss = 0.0619\n"
     ]
    },
    {
     "name": "stderr",
     "output_type": "stream",
     "text": [
      "                                                                                                                       "
     ]
    },
    {
     "name": "stdout",
     "output_type": "stream",
     "text": [
      "🔎 Val Loss: 0.1166, mIoU: 0.5801, Dice: 0.6838\n",
      "🧾 Class 0: IoU = 0.9818, Dice = 0.9908\n",
      "🧾 Class 1: IoU = 0.2200, Dice = 0.3606\n",
      "🧾 Class 2: IoU = 0.5385, Dice = 0.7000\n",
      "💾 Checkpoint saved at epoch 59\n"
     ]
    },
    {
     "name": "stderr",
     "output_type": "stream",
     "text": [
      "                                                                                                                       "
     ]
    },
    {
     "name": "stdout",
     "output_type": "stream",
     "text": [
      "\n",
      "📘 Epoch 60: Avg Train Loss = 0.0634\n"
     ]
    },
    {
     "name": "stderr",
     "output_type": "stream",
     "text": [
      "                                                                                                                       "
     ]
    },
    {
     "name": "stdout",
     "output_type": "stream",
     "text": [
      "🔎 Val Loss: 0.1124, mIoU: 0.5771, Dice: 0.6780\n",
      "🧾 Class 0: IoU = 0.9788, Dice = 0.9893\n",
      "🧾 Class 1: IoU = 0.1994, Dice = 0.3324\n",
      "🧾 Class 2: IoU = 0.5531, Dice = 0.7122\n",
      "💾 Checkpoint saved at epoch 60\n",
      "📦 Final model saved to: segformer_last.pth\n"
     ]
    },
    {
     "data": {
      "image/png": "[encoded data removed]",
      "text/plain": [
       "<Figure size 1000x500 with 1 Axes>"
      ]
     },
     "metadata": {},
     "output_type": "display_data"
    }
   ],
   "source": [
    "train_model(\n",
    "    model=model,  # SegformerForSemanticSegmentation model\n",
    "    train_loader=train_loader,\n",
    "    val_loader=val_loader,\n",
    "    criterion=criterion,\n",
    "    optimizer=optimizer,\n",
    "    num_epochs=60,\n",
    "    save_path=\"segformer_best.pth\",\n",
    "    last_model_path=\"segformer_last.pth\",\n",
    "    checkpoint_path=\"segformer_checkpoint.pth\"\n",
    ")"
   ]
  },
  {
   "cell_type": "code",
   "execution_count": 38,
   "id": "dcd659f7-7c53-4bdb-ba80-3cc558dc8187",
   "metadata": {},
   "outputs": [],
   "source": [
    "from sklearn.metrics import confusion_matrix\n",
    "import numpy as np\n",
    "\n",
    "def compute_confusion_metrics(preds, labels, num_classes=3):\n",
    "    \"\"\"\n",
    "    preds and labels must be 1D arrays of class IDs.\n",
    "    \"\"\"\n",
    "    cm = confusion_matrix(labels, preds, labels=range(num_classes))\n",
    "    print(\"🔷 Confusion Matrix:\")\n",
    "    print(cm)\n",
    "\n",
    "    per_class_accuracy = {}\n",
    "    for cls in range(num_classes):\n",
    "        tp = cm[cls, cls]\n",
    "        total = cm[cls, :].sum()\n",
    "        acc = tp / total if total > 0 else 0.0\n",
    "        per_class_accuracy[cls] = acc\n",
    "\n",
    "    return cm, per_class_accuracy\n"
   ]
  },
  {
   "cell_type": "code",
   "execution_count": 42,
   "id": "83d0fe5e-8f44-4745-b33b-afda796cc36c",
   "metadata": {},
   "outputs": [],
   "source": [
    "from tqdm import tqdm\n",
    "import torch\n",
    "import numpy as np\n",
    "from sklearn.metrics import confusion_matrix\n",
    "import matplotlib.pyplot as plt\n",
    "import seaborn as sns\n",
    "\n",
    "CLASS_NAMES = [\"Background\", \"Crack\", \"Pothole\"]\n",
    "NUM_CLASSES = 3\n",
    "\n",
    "def compute_metrics(model, dataloader, device):\n",
    "    model.eval()\n",
    "    all_preds = []\n",
    "    all_labels = []\n",
    "\n",
    "    with torch.no_grad():\n",
    "        for images, masks in tqdm(dataloader, desc=\"🔍 Evaluating\", leave=False):\n",
    "            images, masks = images.to(device), masks.to(device)\n",
    "            outputs = model(pixel_values=images)\n",
    "            logits = torch.nn.functional.interpolate(\n",
    "                outputs.logits, size=masks.shape[-2:], mode=\"bilinear\", align_corners=False\n",
    "            )\n",
    "            preds = torch.argmax(logits, dim=1)\n",
    "\n",
    "            all_preds.extend(preds.cpu().numpy().flatten())\n",
    "            all_labels.extend(masks.cpu().numpy().flatten())\n",
    "\n",
    "    all_preds = np.array(all_preds)\n",
    "    all_labels = np.array(all_labels)\n",
    "\n",
    "    cm = confusion_matrix(all_labels, all_preds, labels=range(NUM_CLASSES))\n",
    "    ious = []\n",
    "    for cls in range(NUM_CLASSES):\n",
    "        tp = cm[cls, cls]\n",
    "        fp = cm[:, cls].sum() - tp\n",
    "        fn = cm[cls, :].sum() - tp\n",
    "        denom = tp + fp + fn\n",
    "        iou = tp / denom if denom > 0 else 0\n",
    "        ious.append(iou)\n",
    "\n",
    "    pixel_acc = np.mean(all_preds == all_labels)\n",
    "    per_class_acc = cm.diagonal() / cm.sum(axis=1)\n",
    "\n",
    "    print(\"\\n📊 Performance Metrics:\")\n",
    "    print(f\"Pixel Accuracy: {pixel_acc:.4f}\")\n",
    "    print(\"Per-class Accuracy:\")\n",
    "    for i, acc in enumerate(per_class_acc):\n",
    "        print(f\"  {CLASS_NAMES[i]}: {acc:.4f}\")\n",
    "    print(\"IoU per class:\")\n",
    "    for i, iou in enumerate(ious):\n",
    "        print(f\"  {CLASS_NAMES[i]}: {iou:.4f}\")\n",
    "    print(f\"Mean IoU: {np.mean(ious):.4f}\")\n",
    "\n",
    "    # Plot confusion matrix\n",
    "    # Standardized Confusion Matrix (Row-normalized)\n",
    "    cm_normalized = cm.astype('float') / cm.sum(axis=1)[:, np.newaxis]\n",
    "    print(\"\\n📋 Standardized Confusion Matrix (rows sum to 1):\")\n",
    "    for i, row in enumerate(cm_normalized):\n",
    "        row_str = '  '.join(f\"{val:.4f}\" for val in row)\n",
    "        print(f\"{CLASS_NAMES[i]:<10}: {row_str}\")\n",
    "\n",
    "    # Plot confusion matrix (standardized)\n",
    "    plt.figure(figsize=(6, 5))\n",
    "    sns.heatmap(cm_normalized, annot=True, fmt=\".4f\", xticklabels=CLASS_NAMES, yticklabels=CLASS_NAMES, cmap=\"Blues\")\n",
    "    plt.xlabel(\"Predicted\")\n",
    "    plt.ylabel(\"True\")\n",
    "    plt.title(\"Standardized Confusion Matrix\")\n",
    "    plt.tight_layout()\n",
    "    plt.show()"
   ]
  },
  {
   "cell_type": "code",
   "execution_count": 43,
   "id": "0f1cdeed-2b29-4806-9230-55a4959a5712",
   "metadata": {},
   "outputs": [
    {
     "name": "stderr",
     "output_type": "stream",
     "text": [
      "                                                                                                                       "
     ]
    },
    {
     "name": "stdout",
     "output_type": "stream",
     "text": [
      "\n",
      "📊 Performance Metrics:\n",
      "Pixel Accuracy: 0.9789\n",
      "Per-class Accuracy:\n",
      "  Background: 0.9805\n",
      "  Crack: 0.8376\n",
      "  Pothole: 0.6720\n",
      "IoU per class:\n",
      "  Background: 0.9791\n",
      "  Crack: 0.1899\n",
      "  Pothole: 0.5413\n",
      "Mean IoU: 0.5701\n",
      "\n",
      "📋 Standardized Confusion Matrix (rows sum to 1):\n",
      "Background: 0.9805  0.0188  0.0007\n",
      "Crack     : 0.1608  0.8376  0.0017\n",
      "Pothole   : 0.1918  0.1362  0.6720\n"
     ]
    },
    {
     "data": {
      "image/png": "[encoded data removed]",
      "text/plain": [
       "<Figure size 600x500 with 2 Axes>"
      ]
     },
     "metadata": {},
     "output_type": "display_data"
    }
   ],
   "source": [
    "compute_metrics(model, test_loader, device)\n"
   ]
  },
  {
   "cell_type": "markdown",
   "id": "39a501c1-2747-472f-829a-ebc464e97aec",
   "metadata": {},
   "source": [
    "## Final Evaluation"
   ]
  },
  {
   "cell_type": "code",
   "execution_count": 7,
   "id": "67ba3c31-3fea-4acf-820e-c17870c061e7",
   "metadata": {},
   "outputs": [],
   "source": [
    "from tqdm import tqdm\n",
    "import torch\n",
    "import numpy as np\n",
    "from sklearn.metrics import confusion_matrix\n",
    "import matplotlib.pyplot as plt\n",
    "import seaborn as sns\n",
    "from transformers import SegformerForSemanticSegmentation, SegformerConfig\n",
    "\n",
    "CLASS_NAMES = [\"Background\", \"Crack\", \"Pothole\"]\n",
    "NUM_CLASSES = 3\n",
    "\n",
    "def compute_metrics_from_path(model_path, dataloader, device):\n",
    "    # Load SegFormer model\n",
    "    config = SegformerConfig.from_pretrained(\n",
    "        \"nvidia/segformer-b0-finetuned-ade-512-512\",\n",
    "        num_labels=NUM_CLASSES,\n",
    "        id2label={0: \"background\", 1: \"crack\", 2: \"pothole\"},\n",
    "        label2id={\"background\": 0, \"crack\": 1, \"pothole\": 2}\n",
    "    )\n",
    "    model = SegformerForSemanticSegmentation.from_pretrained(\n",
    "        \"nvidia/segformer-b0-finetuned-ade-512-512\",\n",
    "        config=config,\n",
    "        ignore_mismatched_sizes=True\n",
    "    )\n",
    "    model.load_state_dict(torch.load(model_path, map_location=device))\n",
    "    model.to(device)\n",
    "    model.eval()\n",
    "\n",
    "    all_preds = []\n",
    "    all_labels = []\n",
    "\n",
    "    with torch.no_grad():\n",
    "        for images, masks in tqdm(dataloader, desc=\"🔍 Evaluating\", leave=False):\n",
    "            images, masks = images.to(device), masks.to(device)\n",
    "            outputs = model(pixel_values=images)\n",
    "            logits = torch.nn.functional.interpolate(\n",
    "                outputs.logits, size=masks.shape[-2:], mode=\"bilinear\", align_corners=False\n",
    "            )\n",
    "            preds = torch.argmax(logits, dim=1)\n",
    "\n",
    "            all_preds.extend(preds.cpu().numpy().flatten())\n",
    "            all_labels.extend(masks.cpu().numpy().flatten())\n",
    "\n",
    "    all_preds = np.array(all_preds)\n",
    "    all_labels = np.array(all_labels)\n",
    "\n",
    "    cm = confusion_matrix(all_labels, all_preds, labels=range(NUM_CLASSES))\n",
    "    ious = []\n",
    "    for cls in range(NUM_CLASSES):\n",
    "        tp = cm[cls, cls]\n",
    "        fp = cm[:, cls].sum() - tp\n",
    "        fn = cm[cls, :].sum() - tp\n",
    "        denom = tp + fp + fn\n",
    "        iou = tp / denom if denom > 0 else 0\n",
    "        ious.append(iou)\n",
    "\n",
    "    pixel_acc = np.mean(all_preds == all_labels)\n",
    "    per_class_acc = cm.diagonal() / cm.sum(axis=1)\n",
    "\n",
    "    print(\"\\n📊 Performance Metrics:\")\n",
    "    print(f\"Pixel Accuracy: {pixel_acc:.4f}\")\n",
    "    print(\"Per-class Accuracy:\")\n",
    "    for i, acc in enumerate(per_class_acc):\n",
    "        print(f\"  {CLASS_NAMES[i]}: {acc:.4f}\")\n",
    "    print(\"IoU per class:\")\n",
    "    for i, iou in enumerate(ious):\n",
    "        print(f\"  {CLASS_NAMES[i]}: {iou:.4f}\")\n",
    "    print(f\"Mean IoU: {np.mean(ious):.4f}\")\n",
    "\n",
    "    # Standardized Confusion Matrix\n",
    "    cm_normalized = cm.astype('float') / cm.sum(axis=1)[:, np.newaxis]\n",
    "    print(\"\\n📋 Standardized Confusion Matrix (rows sum to 1):\")\n",
    "    for i, row in enumerate(cm_normalized):\n",
    "        row_str = '  '.join(f\"{val:.4f}\" for val in row)\n",
    "        print(f\"{CLASS_NAMES[i]:<10}: {row_str}\")\n",
    "\n",
    "    # Plot confusion matrix\n",
    "    plt.figure(figsize=(6, 5))\n",
    "    sns.heatmap(cm_normalized, annot=True, fmt=\".4f\", xticklabels=CLASS_NAMES, yticklabels=CLASS_NAMES, cmap=\"Blues\")\n",
    "    plt.xlabel(\"Predicted\")\n",
    "    plt.ylabel(\"True\")\n",
    "    plt.title(\"Standardized Confusion Matrix\")\n",
    "    plt.tight_layout()\n",
    "    plt.show()\n"
   ]
  },
  {
   "cell_type": "code",
   "execution_count": 8,
   "id": "f7b991f6-8315-467b-a1f0-3cdca082dc4d",
   "metadata": {},
   "outputs": [
    {
     "name": "stderr",
     "output_type": "stream",
     "text": [
      "Some weights of SegformerForSemanticSegmentation were not initialized from the model checkpoint at nvidia/segformer-b0-finetuned-ade-512-512 and are newly initialized because the shapes did not match:\n",
      "- decode_head.classifier.bias: found shape torch.Size([150]) in the checkpoint and torch.Size([3]) in the model instantiated\n",
      "- decode_head.classifier.weight: found shape torch.Size([150, 256, 1, 1]) in the checkpoint and torch.Size([3, 256, 1, 1]) in the model instantiated\n",
      "You should probably TRAIN this model on a down-stream task to be able to use it for predictions and inference.\n",
      "C:\\Users\\SHREY\\AppData\\Local\\Temp\\ipykernel_13172\\866305775.py:25: FutureWarning: You are using `torch.load` with `weights_only=False` (the current default value), which uses the default pickle module implicitly. It is possible to construct malicious pickle data which will execute arbitrary code during unpickling (See https://github.com/pytorch/pytorch/blob/main/SECURITY.md#untrusted-models for more details). In a future release, the default value for `weights_only` will be flipped to `True`. This limits the functions that could be executed during unpickling. Arbitrary objects will no longer be allowed to be loaded via this mode unless they are explicitly allowlisted by the user via `torch.serialization.add_safe_globals`. We recommend you start setting `weights_only=True` for any use case where you don't have full control of the loaded file. Please open an issue on GitHub for any issues related to this experimental feature.\n",
      "  model.load_state_dict(torch.load(model_path, map_location=device))\n",
      "                                                                                                                       "
     ]
    },
    {
     "name": "stdout",
     "output_type": "stream",
     "text": [
      "\n",
      "📊 Performance Metrics:\n",
      "Pixel Accuracy: 0.9789\n",
      "Per-class Accuracy:\n",
      "  Background: 0.9805\n",
      "  Crack: 0.8376\n",
      "  Pothole: 0.6720\n",
      "IoU per class:\n",
      "  Background: 0.9791\n",
      "  Crack: 0.1899\n",
      "  Pothole: 0.5413\n",
      "Mean IoU: 0.5701\n",
      "\n",
      "📋 Standardized Confusion Matrix (rows sum to 1):\n",
      "Background: 0.9805  0.0188  0.0007\n",
      "Crack     : 0.1608  0.8376  0.0017\n",
      "Pothole   : 0.1918  0.1362  0.6720\n"
     ]
    },
    {
     "data": {
      "image/png": "[encoded data removed]",
      "text/plain": [
       "<Figure size 600x500 with 2 Axes>"
      ]
     },
     "metadata": {},
     "output_type": "display_data"
    }
   ],
   "source": [
    "device = torch.device(\"cuda\" if torch.cuda.is_available() else \"cpu\")\n",
    "model_path = r\"C:\\Users\\SHREY\\Desktop\\gnctd\\segformer_last.pth\"\n",
    "compute_metrics_from_path(model_path, test_loader, device)"
   ]
  }
 ],
 "metadata": {
  "kernelspec": {
   "display_name": "Python (gnctd)",
   "language": "python",
   "name": "gnctd"
  },
  "language_info": {
   "codemirror_mode": {
    "name": "ipython",
    "version": 3
   },
   "file_extension": ".py",
   "mimetype": "text/x-python",
   "name": "python",
   "nbconvert_exporter": "python",
   "pygments_lexer": "ipython3",
   "version": "3.10.18"
  }
 },
 "nbformat": 4,
 "nbformat_minor": 5
}
