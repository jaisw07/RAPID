{
 "cells": [
  {
   "cell_type": "markdown",
   "id": "a133f289-d5db-4ced-b59c-3caf87ec0cf6",
   "metadata": {},
   "source": [
    "## TRAIN/TEST/VAL SPLIT (80/10/10)"
   ]
  },
  {
   "cell_type": "code",
   "execution_count": 1,
   "id": "315fae12-30b2-4f6e-a2d6-3ca5a01c34d4",
   "metadata": {},
   "outputs": [
    {
     "name": "stderr",
     "output_type": "stream",
     "text": [
      "Copying train data: 100%|███████████████████████████████████████████████████████████████████████| 1788/1788 [01:54<00:00, 15.56it/s]\n",
      "Copying val data: 100%|███████████████████████████████████████████████████████████████████████████| 223/223 [00:11<00:00, 19.35it/s]\n",
      "Copying test data:  52%|██████████████████████████████████████▍                                   | 117/225 [00:06<00:05, 19.42it/s]"
     ]
    },
    {
     "name": "stdout",
     "output_type": "stream",
     "text": [
      "Skipping segmentation_dataset due to missing files.\n"
     ]
    },
    {
     "name": "stderr",
     "output_type": "stream",
     "text": [
      "Copying test data: 100%|██████████████████████████████████████████████████████████████████████████| 225/225 [00:13<00:00, 16.78it/s]"
     ]
    },
    {
     "name": "stdout",
     "output_type": "stream",
     "text": [
      "✅ Dataset prepared and split into train/val/test.\n"
     ]
    },
    {
     "name": "stderr",
     "output_type": "stream",
     "text": [
      "\n"
     ]
    }
   ],
   "source": [
    "import os\n",
    "import shutil\n",
    "import random\n",
    "from tqdm import tqdm\n",
    "\n",
    "# Set seed for reproducibility\n",
    "random.seed(42)\n",
    "\n",
    "# Paths\n",
    "root_dir = r\"D:\\internship\\gnctd\\biankatpas-Cracks-and-Potholes-in-Road-Images-Dataset-1f20054\\biankatpas-Cracks-and-Potholes-in-Road-Images-Dataset-1f20054\\Dataset\"  # Your full dataset path here\n",
    "output_base = os.path.join(root_dir, \"segmentation_dataset\")\n",
    "\n",
    "# Create folders\n",
    "for split in ['train', 'val', 'test']:\n",
    "    os.makedirs(os.path.join(output_base, split, \"images\"), exist_ok=True)\n",
    "    os.makedirs(os.path.join(output_base, split, \"masks\"), exist_ok=True)\n",
    "\n",
    "# Get all subfolders\n",
    "all_folders = [f for f in os.listdir(root_dir) if os.path.isdir(os.path.join(root_dir, f))]\n",
    "random.shuffle(all_folders)\n",
    "\n",
    "# Split\n",
    "num_total = len(all_folders)\n",
    "num_train = int(0.8 * num_total)\n",
    "num_val = int(0.1 * num_total)\n",
    "\n",
    "splits = {\n",
    "    'train': all_folders[:num_train],\n",
    "    'val': all_folders[num_train:num_train+num_val],\n",
    "    'test': all_folders[num_train+num_val:]\n",
    "}\n",
    "\n",
    "# Copy files\n",
    "for split, folders in splits.items():\n",
    "    for folder in tqdm(folders, desc=f\"Copying {split} data\"):\n",
    "        folder_path = os.path.join(root_dir, folder)\n",
    "        image_file = os.path.join(folder_path, f\"{folder}_RAW.jpg\")\n",
    "        mask_file = os.path.join(folder_path, f\"{folder}_COMBINED.png\")\n",
    "\n",
    "        if not os.path.exists(image_file) or not os.path.exists(mask_file):\n",
    "            print(f\"Skipping {folder} due to missing files.\")\n",
    "            continue\n",
    "\n",
    "        shutil.copy(image_file, os.path.join(output_base, split, \"images\", f\"{folder}.jpg\"))\n",
    "        shutil.copy(mask_file, os.path.join(output_base, split, \"masks\", f\"{folder}.png\"))\n",
    "\n",
    "print(\"✅ Dataset prepared and split into train/val/test.\")\n"
   ]
  },
  {
   "cell_type": "markdown",
   "id": "31555a74-001f-41fd-adde-60a21924863e",
   "metadata": {},
   "source": [
    "## CUSTOM DATASET CLASS"
   ]
  },
  {
   "cell_type": "code",
   "execution_count": 4,
   "id": "e72441ce-8064-497c-9c86-0fb6276d8823",
   "metadata": {},
   "outputs": [],
   "source": [
    "import os\n",
    "from PIL import Image\n",
    "import numpy as np\n",
    "from torch.utils.data import Dataset\n",
    "import torchvision.transforms as T\n",
    "import torch\n",
    "\n",
    "class SegmentationDataset(Dataset):\n",
    "    def __init__(self, image_dir, mask_dir, transform=None):\n",
    "        self.image_dir = image_dir\n",
    "        self.mask_dir = mask_dir\n",
    "        self.transform = transform\n",
    "\n",
    "        self.images = sorted(os.listdir(image_dir))\n",
    "        self.masks = sorted(os.listdir(mask_dir))\n",
    "\n",
    "    def __len__(self):\n",
    "        return len(self.images)\n",
    "\n",
    "    def __getitem__(self, idx):\n",
    "        image_path = os.path.join(self.image_dir, self.images[idx])\n",
    "        mask_path = os.path.join(self.mask_dir, self.masks[idx])\n",
    "\n",
    "        image = Image.open(image_path).convert(\"RGB\")\n",
    "        mask = Image.open(mask_path).convert(\"L\")\n",
    "\n",
    "        image = np.array(image)\n",
    "        mask = np.array(mask)\n",
    "\n",
    "        # Convert pixel values (0, 127, 255) to class indices (0, 1, 2)\n",
    "        mask = np.where(mask == 255, 2, np.where(mask == 127, 1, 0)).astype(np.uint8)\n",
    "\n",
    "        if self.transform:\n",
    "            augmented = self.transform(image=image, mask=mask)\n",
    "            image = augmented[\"image\"]\n",
    "            mask = augmented[\"mask\"]\n",
    "\n",
    "        # Convert to tensors\n",
    "        image = T.ToTensor()(image)\n",
    "        mask = torch.from_numpy(mask).long()\n",
    "\n",
    "        return image, mask"
   ]
  },
  {
   "cell_type": "markdown",
   "id": "d4de5dab-dcb4-4793-86ec-f7178deb2c9e",
   "metadata": {},
   "source": [
    "## DATA LOADERS AND TRANSFORMERS"
   ]
  },
  {
   "cell_type": "code",
   "execution_count": 1,
   "id": "903c694d-0a41-4c27-8709-212af9f3431e",
   "metadata": {},
   "outputs": [],
   "source": [
    "from torch.utils.data import DataLoader\n",
    "\n",
    "def get_loaders(root_dir, batch_size=8):\n",
    "    train_dataset = SegmentationDataset(\n",
    "        image_dir=os.path.join(root_dir, \"train/images\"),\n",
    "        mask_dir=os.path.join(root_dir, \"train/masks\")\n",
    "    )\n",
    "    val_dataset = SegmentationDataset(\n",
    "        image_dir=os.path.join(root_dir, \"val/images\"),\n",
    "        mask_dir=os.path.join(root_dir, \"val/masks\")\n",
    "    )\n",
    "    test_dataset = SegmentationDataset(\n",
    "        image_dir=os.path.join(root_dir, \"test/images\"),\n",
    "        mask_dir=os.path.join(root_dir, \"test/masks\")\n",
    "    )\n",
    "\n",
    "    train_loader = DataLoader(train_dataset, batch_size=batch_size, shuffle=True, num_workers=0)\n",
    "    val_loader = DataLoader(val_dataset, batch_size=batch_size, shuffle=False, num_workers=0)\n",
    "    test_loader = DataLoader(test_dataset, batch_size=batch_size, shuffle=False, num_workers=0)\n",
    "\n",
    "    return train_loader, val_loader, test_loader"
   ]
  },
  {
   "cell_type": "code",
   "execution_count": 2,
   "id": "c9fb158e-cd02-480f-8cb4-749655e103f8",
   "metadata": {},
   "outputs": [
    {
     "name": "stdout",
     "output_type": "stream",
     "text": [
      "Checking paths...\n",
      "Train Images Path Exists: True\n",
      "Train Masks Path Exists: True\n",
      "Val Images Path Exists: True\n",
      "Val Masks Path Exists: True\n",
      "Test Images Path Exists: True\n",
      "Test Masks Path Exists: True\n"
     ]
    }
   ],
   "source": [
    "root_dir = r\"D:\\internship\\gnctd\\biankatpas-Cracks-and-Potholes-in-Road-Images-Dataset-1f20054\\biankatpas-Cracks-and-Potholes-in-Road-Images-Dataset-1f20054\\Dataset\\segmentation_dataset\"\n",
    "import os\n",
    "\n",
    "# Confirm paths\n",
    "print(\"Checking paths...\")\n",
    "for split in [\"train\", \"val\", \"test\"]:\n",
    "    img_dir = os.path.join(root_dir, split, \"images\")\n",
    "    mask_dir = os.path.join(root_dir, split, \"masks\")\n",
    "\n",
    "    print(f\"{split.capitalize()} Images Path Exists:\", os.path.isdir(img_dir))\n",
    "    print(f\"{split.capitalize()} Masks Path Exists:\", os.path.isdir(mask_dir))"
   ]
  },
  {
   "cell_type": "code",
   "execution_count": 5,
   "id": "71509a1b-2884-4b1a-a101-bdc9e8680b15",
   "metadata": {},
   "outputs": [],
   "source": [
    "# Load data using your loader\n",
    "train_loader, val_loader, test_loader = get_loaders(root_dir)"
   ]
  },
  {
   "cell_type": "code",
   "execution_count": 6,
   "id": "51e673f0-663a-4cfa-8e2d-46fe28f6f371",
   "metadata": {},
   "outputs": [
    {
     "name": "stdout",
     "output_type": "stream",
     "text": [
      "Sample 0: img shape torch.Size([3, 640, 1024]), mask shape torch.Size([640, 1024])\n",
      "Sample 1: img shape torch.Size([3, 640, 1024]), mask shape torch.Size([640, 1024])\n",
      "Sample 2: img shape torch.Size([3, 640, 1024]), mask shape torch.Size([640, 1024])\n",
      "Sample 3: img shape torch.Size([3, 640, 1024]), mask shape torch.Size([640, 1024])\n",
      "Sample 4: img shape torch.Size([3, 640, 1024]), mask shape torch.Size([640, 1024])\n"
     ]
    }
   ],
   "source": [
    "import os\n",
    "\n",
    "root_dir = r\"D:\\internship\\gnctd\\biankatpas-Cracks-and-Potholes-in-Road-Images-Dataset-1f20054\\biankatpas-Cracks-and-Potholes-in-Road-Images-Dataset-1f20054\\Dataset\\segmentation_dataset\"\n",
    "\n",
    "train_dataset = SegmentationDataset(\n",
    "    image_dir=os.path.join(root_dir, \"train/images\"),\n",
    "    mask_dir=os.path.join(root_dir, \"train/masks\")\n",
    ")\n",
    "\n",
    "# Now test loading a few samples\n",
    "for i in range(5):\n",
    "    img, mask = train_dataset[i]\n",
    "    print(f\"Sample {i}: img shape {img.shape}, mask shape {mask.shape}\")"
   ]
  },
  {
   "cell_type": "code",
   "execution_count": 7,
   "id": "cfed5965-6e14-4d6f-8834-5e927d0dfc44",
   "metadata": {},
   "outputs": [
    {
     "name": "stderr",
     "output_type": "stream",
     "text": [
      "Loading train batches:   0%|                                                                                | 0/224 [00:01<?, ?it/s]\n"
     ]
    },
    {
     "ename": "RuntimeError",
     "evalue": "stack expects each tensor to be equal size, but got [3, 640, 1024] at entry 0 and [3, 630, 1024] at entry 2",
     "output_type": "error",
     "traceback": [
      "\u001b[1;31m---------------------------------------------------------------------------\u001b[0m",
      "\u001b[1;31mRuntimeError\u001b[0m                              Traceback (most recent call last)",
      "Cell \u001b[1;32mIn[7], line 4\u001b[0m\n\u001b[0;32m      1\u001b[0m \u001b[38;5;28;01mfrom\u001b[39;00m\u001b[38;5;250m \u001b[39m\u001b[38;5;21;01mtqdm\u001b[39;00m\u001b[38;5;250m \u001b[39m\u001b[38;5;28;01mimport\u001b[39;00m tqdm\n\u001b[0;32m      3\u001b[0m \u001b[38;5;66;03m# Sample check with progress bar and debugging\u001b[39;00m\n\u001b[1;32m----> 4\u001b[0m \u001b[38;5;28;01mfor\u001b[39;00m batch_idx, (imgs, masks) \u001b[38;5;129;01min\u001b[39;00m \u001b[38;5;28menumerate\u001b[39m(tqdm(train_loader, desc\u001b[38;5;241m=\u001b[39m\u001b[38;5;124m\"\u001b[39m\u001b[38;5;124mLoading train batches\u001b[39m\u001b[38;5;124m\"\u001b[39m)):\n\u001b[0;32m      5\u001b[0m     \u001b[38;5;28mprint\u001b[39m(\u001b[38;5;124mf\u001b[39m\u001b[38;5;124m\"\u001b[39m\u001b[38;5;124mBatch \u001b[39m\u001b[38;5;132;01m{\u001b[39;00mbatch_idx\u001b[38;5;250m \u001b[39m\u001b[38;5;241m+\u001b[39m\u001b[38;5;250m \u001b[39m\u001b[38;5;241m1\u001b[39m\u001b[38;5;132;01m}\u001b[39;00m\u001b[38;5;124m:\u001b[39m\u001b[38;5;124m\"\u001b[39m)\n\u001b[0;32m      6\u001b[0m     \u001b[38;5;28mprint\u001b[39m(\u001b[38;5;124m\"\u001b[39m\u001b[38;5;124m  Image batch shape:\u001b[39m\u001b[38;5;124m\"\u001b[39m, imgs\u001b[38;5;241m.\u001b[39mshape)   \u001b[38;5;66;03m# Expected: [B, 3, H, W]\u001b[39;00m\n",
      "File \u001b[1;32m~\\anaconda3\\envs\\gnctd\\lib\\site-packages\\tqdm\\std.py:1181\u001b[0m, in \u001b[0;36mtqdm.__iter__\u001b[1;34m(self)\u001b[0m\n\u001b[0;32m   1178\u001b[0m time \u001b[38;5;241m=\u001b[39m \u001b[38;5;28mself\u001b[39m\u001b[38;5;241m.\u001b[39m_time\n\u001b[0;32m   1180\u001b[0m \u001b[38;5;28;01mtry\u001b[39;00m:\n\u001b[1;32m-> 1181\u001b[0m     \u001b[38;5;28;01mfor\u001b[39;00m obj \u001b[38;5;129;01min\u001b[39;00m iterable:\n\u001b[0;32m   1182\u001b[0m         \u001b[38;5;28;01myield\u001b[39;00m obj\n\u001b[0;32m   1183\u001b[0m         \u001b[38;5;66;03m# Update and possibly print the progressbar.\u001b[39;00m\n\u001b[0;32m   1184\u001b[0m         \u001b[38;5;66;03m# Note: does not call self.update(1) for speed optimisation.\u001b[39;00m\n",
      "File \u001b[1;32m~\\anaconda3\\envs\\gnctd\\lib\\site-packages\\torch\\utils\\data\\dataloader.py:733\u001b[0m, in \u001b[0;36m_BaseDataLoaderIter.__next__\u001b[1;34m(self)\u001b[0m\n\u001b[0;32m    730\u001b[0m \u001b[38;5;28;01mif\u001b[39;00m \u001b[38;5;28mself\u001b[39m\u001b[38;5;241m.\u001b[39m_sampler_iter \u001b[38;5;129;01mis\u001b[39;00m \u001b[38;5;28;01mNone\u001b[39;00m:\n\u001b[0;32m    731\u001b[0m     \u001b[38;5;66;03m# TODO(https://github.com/pytorch/pytorch/issues/76750)\u001b[39;00m\n\u001b[0;32m    732\u001b[0m     \u001b[38;5;28mself\u001b[39m\u001b[38;5;241m.\u001b[39m_reset()  \u001b[38;5;66;03m# type: ignore[call-arg]\u001b[39;00m\n\u001b[1;32m--> 733\u001b[0m data \u001b[38;5;241m=\u001b[39m \u001b[38;5;28;43mself\u001b[39;49m\u001b[38;5;241;43m.\u001b[39;49m\u001b[43m_next_data\u001b[49m\u001b[43m(\u001b[49m\u001b[43m)\u001b[49m\n\u001b[0;32m    734\u001b[0m \u001b[38;5;28mself\u001b[39m\u001b[38;5;241m.\u001b[39m_num_yielded \u001b[38;5;241m+\u001b[39m\u001b[38;5;241m=\u001b[39m \u001b[38;5;241m1\u001b[39m\n\u001b[0;32m    735\u001b[0m \u001b[38;5;28;01mif\u001b[39;00m (\n\u001b[0;32m    736\u001b[0m     \u001b[38;5;28mself\u001b[39m\u001b[38;5;241m.\u001b[39m_dataset_kind \u001b[38;5;241m==\u001b[39m _DatasetKind\u001b[38;5;241m.\u001b[39mIterable\n\u001b[0;32m    737\u001b[0m     \u001b[38;5;129;01mand\u001b[39;00m \u001b[38;5;28mself\u001b[39m\u001b[38;5;241m.\u001b[39m_IterableDataset_len_called \u001b[38;5;129;01mis\u001b[39;00m \u001b[38;5;129;01mnot\u001b[39;00m \u001b[38;5;28;01mNone\u001b[39;00m\n\u001b[0;32m    738\u001b[0m     \u001b[38;5;129;01mand\u001b[39;00m \u001b[38;5;28mself\u001b[39m\u001b[38;5;241m.\u001b[39m_num_yielded \u001b[38;5;241m>\u001b[39m \u001b[38;5;28mself\u001b[39m\u001b[38;5;241m.\u001b[39m_IterableDataset_len_called\n\u001b[0;32m    739\u001b[0m ):\n",
      "File \u001b[1;32m~\\anaconda3\\envs\\gnctd\\lib\\site-packages\\torch\\utils\\data\\dataloader.py:789\u001b[0m, in \u001b[0;36m_SingleProcessDataLoaderIter._next_data\u001b[1;34m(self)\u001b[0m\n\u001b[0;32m    787\u001b[0m \u001b[38;5;28;01mdef\u001b[39;00m\u001b[38;5;250m \u001b[39m\u001b[38;5;21m_next_data\u001b[39m(\u001b[38;5;28mself\u001b[39m):\n\u001b[0;32m    788\u001b[0m     index \u001b[38;5;241m=\u001b[39m \u001b[38;5;28mself\u001b[39m\u001b[38;5;241m.\u001b[39m_next_index()  \u001b[38;5;66;03m# may raise StopIteration\u001b[39;00m\n\u001b[1;32m--> 789\u001b[0m     data \u001b[38;5;241m=\u001b[39m \u001b[38;5;28;43mself\u001b[39;49m\u001b[38;5;241;43m.\u001b[39;49m\u001b[43m_dataset_fetcher\u001b[49m\u001b[38;5;241;43m.\u001b[39;49m\u001b[43mfetch\u001b[49m\u001b[43m(\u001b[49m\u001b[43mindex\u001b[49m\u001b[43m)\u001b[49m  \u001b[38;5;66;03m# may raise StopIteration\u001b[39;00m\n\u001b[0;32m    790\u001b[0m     \u001b[38;5;28;01mif\u001b[39;00m \u001b[38;5;28mself\u001b[39m\u001b[38;5;241m.\u001b[39m_pin_memory:\n\u001b[0;32m    791\u001b[0m         data \u001b[38;5;241m=\u001b[39m _utils\u001b[38;5;241m.\u001b[39mpin_memory\u001b[38;5;241m.\u001b[39mpin_memory(data, \u001b[38;5;28mself\u001b[39m\u001b[38;5;241m.\u001b[39m_pin_memory_device)\n",
      "File \u001b[1;32m~\\anaconda3\\envs\\gnctd\\lib\\site-packages\\torch\\utils\\data\\_utils\\fetch.py:55\u001b[0m, in \u001b[0;36m_MapDatasetFetcher.fetch\u001b[1;34m(self, possibly_batched_index)\u001b[0m\n\u001b[0;32m     53\u001b[0m \u001b[38;5;28;01melse\u001b[39;00m:\n\u001b[0;32m     54\u001b[0m     data \u001b[38;5;241m=\u001b[39m \u001b[38;5;28mself\u001b[39m\u001b[38;5;241m.\u001b[39mdataset[possibly_batched_index]\n\u001b[1;32m---> 55\u001b[0m \u001b[38;5;28;01mreturn\u001b[39;00m \u001b[38;5;28;43mself\u001b[39;49m\u001b[38;5;241;43m.\u001b[39;49m\u001b[43mcollate_fn\u001b[49m\u001b[43m(\u001b[49m\u001b[43mdata\u001b[49m\u001b[43m)\u001b[49m\n",
      "File \u001b[1;32m~\\anaconda3\\envs\\gnctd\\lib\\site-packages\\torch\\utils\\data\\_utils\\collate.py:398\u001b[0m, in \u001b[0;36mdefault_collate\u001b[1;34m(batch)\u001b[0m\n\u001b[0;32m    337\u001b[0m \u001b[38;5;28;01mdef\u001b[39;00m\u001b[38;5;250m \u001b[39m\u001b[38;5;21mdefault_collate\u001b[39m(batch):\n\u001b[0;32m    338\u001b[0m \u001b[38;5;250m    \u001b[39m\u001b[38;5;124mr\u001b[39m\u001b[38;5;124;03m\"\"\"\u001b[39;00m\n\u001b[0;32m    339\u001b[0m \u001b[38;5;124;03m    Take in a batch of data and put the elements within the batch into a tensor with an additional outer dimension - batch size.\u001b[39;00m\n\u001b[0;32m    340\u001b[0m \n\u001b[1;32m   (...)\u001b[0m\n\u001b[0;32m    396\u001b[0m \u001b[38;5;124;03m        >>> default_collate(batch)  # Handle `CustomType` automatically\u001b[39;00m\n\u001b[0;32m    397\u001b[0m \u001b[38;5;124;03m    \"\"\"\u001b[39;00m\n\u001b[1;32m--> 398\u001b[0m     \u001b[38;5;28;01mreturn\u001b[39;00m \u001b[43mcollate\u001b[49m\u001b[43m(\u001b[49m\u001b[43mbatch\u001b[49m\u001b[43m,\u001b[49m\u001b[43m \u001b[49m\u001b[43mcollate_fn_map\u001b[49m\u001b[38;5;241;43m=\u001b[39;49m\u001b[43mdefault_collate_fn_map\u001b[49m\u001b[43m)\u001b[49m\n",
      "File \u001b[1;32m~\\anaconda3\\envs\\gnctd\\lib\\site-packages\\torch\\utils\\data\\_utils\\collate.py:211\u001b[0m, in \u001b[0;36mcollate\u001b[1;34m(batch, collate_fn_map)\u001b[0m\n\u001b[0;32m    208\u001b[0m transposed \u001b[38;5;241m=\u001b[39m \u001b[38;5;28mlist\u001b[39m(\u001b[38;5;28mzip\u001b[39m(\u001b[38;5;241m*\u001b[39mbatch))  \u001b[38;5;66;03m# It may be accessed twice, so we use a list.\u001b[39;00m\n\u001b[0;32m    210\u001b[0m \u001b[38;5;28;01mif\u001b[39;00m \u001b[38;5;28misinstance\u001b[39m(elem, \u001b[38;5;28mtuple\u001b[39m):\n\u001b[1;32m--> 211\u001b[0m     \u001b[38;5;28;01mreturn\u001b[39;00m [\n\u001b[0;32m    212\u001b[0m         collate(samples, collate_fn_map\u001b[38;5;241m=\u001b[39mcollate_fn_map)\n\u001b[0;32m    213\u001b[0m         \u001b[38;5;28;01mfor\u001b[39;00m samples \u001b[38;5;129;01min\u001b[39;00m transposed\n\u001b[0;32m    214\u001b[0m     ]  \u001b[38;5;66;03m# Backwards compatibility.\u001b[39;00m\n\u001b[0;32m    215\u001b[0m \u001b[38;5;28;01melse\u001b[39;00m:\n\u001b[0;32m    216\u001b[0m     \u001b[38;5;28;01mtry\u001b[39;00m:\n",
      "File \u001b[1;32m~\\anaconda3\\envs\\gnctd\\lib\\site-packages\\torch\\utils\\data\\_utils\\collate.py:212\u001b[0m, in \u001b[0;36m<listcomp>\u001b[1;34m(.0)\u001b[0m\n\u001b[0;32m    208\u001b[0m transposed \u001b[38;5;241m=\u001b[39m \u001b[38;5;28mlist\u001b[39m(\u001b[38;5;28mzip\u001b[39m(\u001b[38;5;241m*\u001b[39mbatch))  \u001b[38;5;66;03m# It may be accessed twice, so we use a list.\u001b[39;00m\n\u001b[0;32m    210\u001b[0m \u001b[38;5;28;01mif\u001b[39;00m \u001b[38;5;28misinstance\u001b[39m(elem, \u001b[38;5;28mtuple\u001b[39m):\n\u001b[0;32m    211\u001b[0m     \u001b[38;5;28;01mreturn\u001b[39;00m [\n\u001b[1;32m--> 212\u001b[0m         \u001b[43mcollate\u001b[49m\u001b[43m(\u001b[49m\u001b[43msamples\u001b[49m\u001b[43m,\u001b[49m\u001b[43m \u001b[49m\u001b[43mcollate_fn_map\u001b[49m\u001b[38;5;241;43m=\u001b[39;49m\u001b[43mcollate_fn_map\u001b[49m\u001b[43m)\u001b[49m\n\u001b[0;32m    213\u001b[0m         \u001b[38;5;28;01mfor\u001b[39;00m samples \u001b[38;5;129;01min\u001b[39;00m transposed\n\u001b[0;32m    214\u001b[0m     ]  \u001b[38;5;66;03m# Backwards compatibility.\u001b[39;00m\n\u001b[0;32m    215\u001b[0m \u001b[38;5;28;01melse\u001b[39;00m:\n\u001b[0;32m    216\u001b[0m     \u001b[38;5;28;01mtry\u001b[39;00m:\n",
      "File \u001b[1;32m~\\anaconda3\\envs\\gnctd\\lib\\site-packages\\torch\\utils\\data\\_utils\\collate.py:155\u001b[0m, in \u001b[0;36mcollate\u001b[1;34m(batch, collate_fn_map)\u001b[0m\n\u001b[0;32m    153\u001b[0m \u001b[38;5;28;01mif\u001b[39;00m collate_fn_map \u001b[38;5;129;01mis\u001b[39;00m \u001b[38;5;129;01mnot\u001b[39;00m \u001b[38;5;28;01mNone\u001b[39;00m:\n\u001b[0;32m    154\u001b[0m     \u001b[38;5;28;01mif\u001b[39;00m elem_type \u001b[38;5;129;01min\u001b[39;00m collate_fn_map:\n\u001b[1;32m--> 155\u001b[0m         \u001b[38;5;28;01mreturn\u001b[39;00m \u001b[43mcollate_fn_map\u001b[49m\u001b[43m[\u001b[49m\u001b[43melem_type\u001b[49m\u001b[43m]\u001b[49m\u001b[43m(\u001b[49m\u001b[43mbatch\u001b[49m\u001b[43m,\u001b[49m\u001b[43m \u001b[49m\u001b[43mcollate_fn_map\u001b[49m\u001b[38;5;241;43m=\u001b[39;49m\u001b[43mcollate_fn_map\u001b[49m\u001b[43m)\u001b[49m\n\u001b[0;32m    157\u001b[0m     \u001b[38;5;28;01mfor\u001b[39;00m collate_type \u001b[38;5;129;01min\u001b[39;00m collate_fn_map:\n\u001b[0;32m    158\u001b[0m         \u001b[38;5;28;01mif\u001b[39;00m \u001b[38;5;28misinstance\u001b[39m(elem, collate_type):\n",
      "File \u001b[1;32m~\\anaconda3\\envs\\gnctd\\lib\\site-packages\\torch\\utils\\data\\_utils\\collate.py:272\u001b[0m, in \u001b[0;36mcollate_tensor_fn\u001b[1;34m(batch, collate_fn_map)\u001b[0m\n\u001b[0;32m    270\u001b[0m     storage \u001b[38;5;241m=\u001b[39m elem\u001b[38;5;241m.\u001b[39m_typed_storage()\u001b[38;5;241m.\u001b[39m_new_shared(numel, device\u001b[38;5;241m=\u001b[39melem\u001b[38;5;241m.\u001b[39mdevice)\n\u001b[0;32m    271\u001b[0m     out \u001b[38;5;241m=\u001b[39m elem\u001b[38;5;241m.\u001b[39mnew(storage)\u001b[38;5;241m.\u001b[39mresize_(\u001b[38;5;28mlen\u001b[39m(batch), \u001b[38;5;241m*\u001b[39m\u001b[38;5;28mlist\u001b[39m(elem\u001b[38;5;241m.\u001b[39msize()))\n\u001b[1;32m--> 272\u001b[0m \u001b[38;5;28;01mreturn\u001b[39;00m \u001b[43mtorch\u001b[49m\u001b[38;5;241;43m.\u001b[39;49m\u001b[43mstack\u001b[49m\u001b[43m(\u001b[49m\u001b[43mbatch\u001b[49m\u001b[43m,\u001b[49m\u001b[43m \u001b[49m\u001b[38;5;241;43m0\u001b[39;49m\u001b[43m,\u001b[49m\u001b[43m \u001b[49m\u001b[43mout\u001b[49m\u001b[38;5;241;43m=\u001b[39;49m\u001b[43mout\u001b[49m\u001b[43m)\u001b[49m\n",
      "\u001b[1;31mRuntimeError\u001b[0m: stack expects each tensor to be equal size, but got [3, 640, 1024] at entry 0 and [3, 630, 1024] at entry 2"
     ]
    }
   ],
   "source": [
    "from tqdm import tqdm\n",
    "\n",
    "# Sample check with progress bar and debugging\n",
    "for batch_idx, (imgs, masks) in enumerate(tqdm(train_loader, desc=\"Loading train batches\")):\n",
    "    print(f\"Batch {batch_idx + 1}:\")\n",
    "    print(\"  Image batch shape:\", imgs.shape)   # Expected: [B, 3, H, W]\n",
    "    print(\"  Mask batch shape:\", masks.shape)   # Expected: [B, H, W]\n",
    "    break  # Remove break to process all batches\n"
   ]
  },
  {
   "cell_type": "markdown",
   "id": "767feecd-24a6-4939-909d-88f810266c03",
   "metadata": {},
   "source": [
    "## DEALING WITH UNEQUAL SIZE IMAGES"
   ]
  },
  {
   "cell_type": "code",
   "execution_count": 9,
   "id": "ade30a26-4f6c-46a8-b732-ae8e86a2e17c",
   "metadata": {},
   "outputs": [
    {
     "name": "stderr",
     "output_type": "stream",
     "text": [
      "Loading train/images: 100%|███████████████████████████████████████████████████████████████| 1788/1788 [00:01<00:00, 1108.98images/s]\n",
      "Loading val/images: 100%|████████████████████████████████████████████████████████████████████| 223/223 [00:02<00:00, 109.91images/s]\n",
      "Loading test/images: 100%|███████████████████████████████████████████████████████████████████| 224/224 [00:01<00:00, 112.93images/s]\n"
     ]
    },
    {
     "name": "stdout",
     "output_type": "stream",
     "text": [
      "Height statistics:\n",
      "Max: 640, Min: 630, Mean: 635.49, Median: 640.0\n",
      "75th percentile: 640.0\n",
      "\n",
      "Width statistics:\n",
      "Max: 1024, Min: 1024, Mean: 1024.00, Median: 1024.0\n",
      "75th percentile: 1024.0\n"
     ]
    },
    {
     "data": {
      "image/png": "[encoded data removed]",
      "text/plain": [
       "<Figure size 1200x500 with 2 Axes>"
      ]
     },
     "metadata": {},
     "output_type": "display_data"
    }
   ],
   "source": [
    "import os\n",
    "from PIL import Image\n",
    "import matplotlib.pyplot as plt\n",
    "import numpy as np\n",
    "from tqdm import tqdm\n",
    "\n",
    "# Root dir of your dataset images (train, val, test)\n",
    "root_dir = r\"D:\\internship\\gnctd\\biankatpas-Cracks-and-Potholes-in-Road-Images-Dataset-1f20054\\biankatpas-Cracks-and-Potholes-in-Road-Images-Dataset-1f20054\\Dataset\\segmentation_dataset\"\n",
    "\n",
    "# Subfolders to scan for images\n",
    "subfolders = [\"train/images\", \"val/images\", \"test/images\"]\n",
    "\n",
    "heights = []\n",
    "widths = []\n",
    "\n",
    "for subfolder in subfolders:\n",
    "    folder_path = os.path.join(root_dir, subfolder)\n",
    "    files = [f for f in os.listdir(folder_path) if f.lower().endswith(('.png', '.jpg', '.jpeg'))]\n",
    "    for fname in tqdm(files, desc=f\"Loading {subfolder}\", unit=\"images\"):\n",
    "        img_path = os.path.join(folder_path, fname)\n",
    "        with Image.open(img_path) as img:\n",
    "            w, h = img.size\n",
    "            widths.append(w)\n",
    "            heights.append(h)\n",
    "\n",
    "# Convert to numpy arrays\n",
    "heights = np.array(heights)\n",
    "widths = np.array(widths)\n",
    "\n",
    "# Print metrics\n",
    "print(\"Height statistics:\")\n",
    "print(f\"Max: {heights.max()}, Min: {heights.min()}, Mean: {heights.mean():.2f}, Median: {np.median(heights)}\")\n",
    "print(f\"75th percentile: {np.percentile(heights, 75)}\")\n",
    "print()\n",
    "print(\"Width statistics:\")\n",
    "print(f\"Max: {widths.max()}, Min: {widths.min()}, Mean: {widths.mean():.2f}, Median: {np.median(widths)}\")\n",
    "print(f\"75th percentile: {np.percentile(widths, 75)}\")\n",
    "\n",
    "# Plot distributions\n",
    "plt.figure(figsize=(12,5))\n",
    "\n",
    "plt.subplot(1, 2, 1)\n",
    "plt.hist(heights, bins=30, color='skyblue', edgecolor='black')\n",
    "plt.title(\"Image Heights Distribution\")\n",
    "plt.xlabel(\"Height (pixels)\")\n",
    "plt.ylabel(\"Count\")\n",
    "\n",
    "plt.subplot(1, 2, 2)\n",
    "plt.hist(widths, bins=30, color='lightgreen', edgecolor='black')\n",
    "plt.title(\"Image Widths Distribution\")\n",
    "plt.xlabel(\"Width (pixels)\")\n",
    "plt.ylabel(\"Count\")\n",
    "\n",
    "plt.tight_layout()\n",
    "plt.show()"
   ]
  },
  {
   "cell_type": "code",
   "execution_count": 3,
   "id": "ad511297-901b-4e5c-a93d-4d2ff2479474",
   "metadata": {},
   "outputs": [],
   "source": [
    "import os\n",
    "import torch\n",
    "import numpy as np\n",
    "from PIL import Image\n",
    "from torch.utils.data import Dataset\n",
    "import torchvision.transforms.functional as TF\n",
    "\n",
    "class PaddedSegmentationDataset(Dataset):\n",
    "    def __init__(self, images_dir, masks_dir):\n",
    "        self.images_dir = images_dir\n",
    "        self.masks_dir = masks_dir\n",
    "\n",
    "        # List all images (jpg, jpeg, png)\n",
    "        self.filenames = sorted([\n",
    "            fname for fname in os.listdir(images_dir)\n",
    "            if fname.lower().endswith((\".png\", \".jpg\", \".jpeg\"))\n",
    "        ])\n",
    "\n",
    "    def __len__(self):\n",
    "        return len(self.filenames)\n",
    "\n",
    "    def __getitem__(self, idx):\n",
    "        # Get image filename\n",
    "        fname = self.filenames[idx]\n",
    "        img_path = os.path.join(self.images_dir, fname)\n",
    "\n",
    "        # Construct corresponding mask filename by replacing extension with .png\n",
    "        mask_name = os.path.splitext(fname)[0] + \".png\"\n",
    "        mask_path = os.path.join(self.masks_dir, mask_name)\n",
    "\n",
    "        # Load image and mask\n",
    "        image = Image.open(img_path).convert(\"RGB\")   # (W, H)\n",
    "        mask = Image.open(mask_path)                  # single-channel\n",
    "\n",
    "        # Target size\n",
    "        target_h, target_w = 640, 1024\n",
    "\n",
    "        w, h = image.size  # PIL gives size as (width, height)\n",
    "\n",
    "        # Padding calculation for height only, width is assumed 1024 fixed\n",
    "        if h < target_h:\n",
    "            pad_total = target_h - h\n",
    "            pad_top = pad_total // 2\n",
    "            pad_bottom = pad_total - pad_top\n",
    "            padding = (0, pad_top, 0, pad_bottom)  # (left, top, right, bottom)\n",
    "            image = TF.pad(image, padding, fill=0)\n",
    "            mask = TF.pad(mask, padding, fill=0)\n",
    "\n",
    "        # Convert to tensor\n",
    "        image_tensor = TF.to_tensor(image)  # [3, H, W], float32 [0,1]\n",
    "\n",
    "        # Convert mask to numpy for label mapping\n",
    "        mask_np = np.array(mask, dtype=np.uint8)\n",
    "\n",
    "        # Map mask pixel values: 0 -> 0, 127 -> 1, 255 -> 2\n",
    "        mask_np = np.where(mask_np == 255, 2, np.where(mask_np == 127, 1, 0))\n",
    "        mask_tensor = torch.from_numpy(mask_np).long()  # [H, W], int64\n",
    "\n",
    "        return image_tensor, mask_tensor"
   ]
  },
  {
   "cell_type": "code",
   "execution_count": 7,
   "id": "aca13aef-68c1-498e-bb46-7858c31a816c",
   "metadata": {},
   "outputs": [
    {
     "name": "stderr",
     "output_type": "stream",
     "text": [
      "Loading train batches:   0%|                                                                                | 0/224 [00:00<?, ?it/s]"
     ]
    },
    {
     "name": "stdout",
     "output_type": "stream",
     "text": [
      "Image batch: torch.Size([8, 3, 640, 1024])\n",
      "Mask batch: torch.Size([8, 640, 1024])\n"
     ]
    },
    {
     "name": "stderr",
     "output_type": "stream",
     "text": [
      "\n"
     ]
    }
   ],
   "source": [
    "import os\n",
    "from torch.utils.data import DataLoader\n",
    "from tqdm import tqdm\n",
    "\n",
    "root_dir = r\"D:\\internship\\gnctd\\biankatpas-Cracks-and-Potholes-in-Road-Images-Dataset-1f20054\\biankatpas-Cracks-and-Potholes-in-Road-Images-Dataset-1f20054\\Dataset\\segmentation_dataset\"\n",
    "\n",
    "train_dataset = PaddedSegmentationDataset(\n",
    "    images_dir=os.path.join(root_dir, \"train\", \"images\"),\n",
    "    masks_dir=os.path.join(root_dir, \"train\", \"masks\")\n",
    ")\n",
    "val_dataset = PaddedSegmentationDataset(\n",
    "    images_dir=os.path.join(root_dir, \"val\", \"images\"),\n",
    "    masks_dir=os.path.join(root_dir, \"val\", \"masks\")\n",
    ")\n",
    "test_dataset = PaddedSegmentationDataset(\n",
    "    images_dir=os.path.join(root_dir, \"test\", \"images\"),\n",
    "    masks_dir=os.path.join(root_dir, \"test\", \"masks\")\n",
    ")\n",
    "\n",
    "train_loader = DataLoader(train_dataset, batch_size=8, shuffle=True, num_workers=0)\n",
    "val_loader   = DataLoader(val_dataset,   batch_size=8, shuffle=False, num_workers=0)\n",
    "test_loader  = DataLoader(test_dataset,  batch_size=8, shuffle=False, num_workers=0)\n",
    "\n",
    "# Quick check with progress bar\n",
    "for imgs, masks in tqdm(train_loader, desc=\"Loading train batches\"):\n",
    "    print(\"Image batch:\", imgs.shape)  # [8, 3, 640, 1024]\n",
    "    print(\"Mask batch:\", masks.shape)  # [8, 640, 1024]\n",
    "    break;"
   ]
  }
 ],
 "metadata": {
  "kernelspec": {
   "display_name": "Python 3 (ipykernel)",
   "language": "python",
   "name": "python3"
  },
  "language_info": {
   "codemirror_mode": {
    "name": "ipython",
    "version": 3
   },
   "file_extension": ".py",
   "mimetype": "text/x-python",
   "name": "python",
   "nbconvert_exporter": "python",
   "pygments_lexer": "ipython3",
   "version": "3.10.18"
  }
 },
 "nbformat": 4,
 "nbformat_minor": 5
}
