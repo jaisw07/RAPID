{
 "cells": [
  {
   "cell_type": "markdown",
   "id": "254f9bd5-59ae-4fd7-9c01-5bb2fd6e955e",
   "metadata": {},
   "source": [
    "## Data Loading"
   ]
  },
  {
   "cell_type": "code",
   "execution_count": 1,
   "id": "73fb8855-d757-4180-ab2d-1bfd8639bdb6",
   "metadata": {},
   "outputs": [],
   "source": [
    "# import os\n",
    "# from PIL import Image, ImageOps\n",
    "# from tqdm import tqdm  # ✅ Added progress bar\n",
    "\n",
    "# # Source and destination directories\n",
    "# src_root = r\"C:\\Users\\SHREY\\Desktop\\gnctd\\segmentation_dataset\"\n",
    "# dst_root = r\"C:\\Users\\SHREY\\Desktop\\gnctd\\segmentation_dataset_512_512\"\n",
    "\n",
    "# # Target size\n",
    "# target_size = (512, 512)\n",
    "\n",
    "# # Helper function: resize with padding (aspect-ratio preserved)\n",
    "# def resize_with_padding(img, target_size, is_mask=False):\n",
    "#     if is_mask and img.mode != \"L\":\n",
    "#         img = img.convert(\"L\")\n",
    "#     elif not is_mask and img.mode != \"RGB\":\n",
    "#         img = img.convert(\"RGB\")\n",
    "\n",
    "#     img = ImageOps.pad(\n",
    "#         img,\n",
    "#         target_size,\n",
    "#         method=Image.NEAREST if is_mask else Image.BILINEAR,\n",
    "#         color=0,\n",
    "#         centering=(0.5, 0.5)\n",
    "#     )\n",
    "#     return img\n",
    "\n",
    "# # Process all splits\n",
    "# splits = [\"train\", \"val\", \"test\"]\n",
    "# for split in splits:\n",
    "#     for subfolder in [\"images\", \"masks\"]:\n",
    "#         src_dir = os.path.join(src_root, split, subfolder)\n",
    "#         dst_dir = os.path.join(dst_root, split, subfolder)\n",
    "#         os.makedirs(dst_dir, exist_ok=True)\n",
    "\n",
    "#         file_list = [\n",
    "#             f for f in os.listdir(src_dir)\n",
    "#             if f.lower().endswith((\".png\", \".jpg\", \".jpeg\"))\n",
    "#         ]\n",
    "\n",
    "#         print(f\"🔄 Processing {split}/{subfolder} ({len(file_list)} files)...\")\n",
    "#         for fname in tqdm(file_list, desc=f\"{split}/{subfolder}\"):\n",
    "#             src_path = os.path.join(src_dir, fname)\n",
    "#             dst_path = os.path.join(dst_dir, fname)\n",
    "\n",
    "#             with Image.open(src_path) as img:\n",
    "#                 resized = resize_with_padding(img, target_size, is_mask=(subfolder == \"masks\"))\n",
    "#                 resized.save(dst_path)\n",
    "\n",
    "# print(\"✅ All images and masks resized to 512x512 with padding. Saved to:\", dst_root)"
   ]
  },
  {
   "cell_type": "code",
   "execution_count": 2,
   "id": "bda824d8-0bb0-4cd9-9acf-6050178057d2",
   "metadata": {},
   "outputs": [],
   "source": [
    "from torch.utils.data import Dataset, DataLoader\n",
    "from PIL import Image\n",
    "import os\n",
    "import numpy as np\n",
    "import torch\n",
    "from torchvision import transforms\n",
    "\n",
    "class SegformerSegmentationDataset(Dataset):\n",
    "    def __init__(self, image_dir, mask_dir, image_size=512):\n",
    "        self.image_dir = image_dir\n",
    "        self.mask_dir = mask_dir\n",
    "        self.image_size = image_size\n",
    "\n",
    "        self.filenames = sorted([\n",
    "            f for f in os.listdir(image_dir)\n",
    "            if f.lower().endswith(('.jpg', '.png', '.jpeg'))\n",
    "        ])\n",
    "\n",
    "        self.img_transform = transforms.Compose([\n",
    "            transforms.ToTensor(),  # Converts to [0,1] float32\n",
    "        ])\n",
    "\n",
    "    def __len__(self):\n",
    "        return len(self.filenames)\n",
    "\n",
    "    def __getitem__(self, idx):\n",
    "        image_name = self.filenames[idx]\n",
    "        image_path = os.path.join(self.image_dir, image_name)\n",
    "        mask_path = os.path.join(self.mask_dir, os.path.splitext(image_name)[0] + \".png\")\n",
    "\n",
    "        image = Image.open(image_path).convert(\"RGB\")\n",
    "        mask = Image.open(mask_path).convert(\"L\")\n",
    "\n",
    "        # Convert mask to label ids\n",
    "        mask = np.array(mask, dtype=np.uint8)\n",
    "        mask = np.where(mask == 255, 2, np.where(mask == 127, 1, 0))\n",
    "\n",
    "        image = self.img_transform(image)\n",
    "        mask = torch.from_numpy(mask).long()\n",
    "\n",
    "        return image, mask"
   ]
  },
  {
   "cell_type": "code",
   "execution_count": 3,
   "id": "31164b58-5200-4144-a584-57eee8c48f25",
   "metadata": {},
   "outputs": [],
   "source": [
    "# Root path to resized dataset\n",
    "base_path = r\"C:\\Users\\SHREY\\Desktop\\gnctd\\segmentation_dataset_512_512\"\n",
    "\n",
    "# Datasets\n",
    "train_dataset = SegformerSegmentationDataset(\n",
    "    image_dir=os.path.join(base_path, \"train\", \"images\"),\n",
    "    mask_dir=os.path.join(base_path, \"train\", \"masks\"),\n",
    ")\n",
    "\n",
    "val_dataset = SegformerSegmentationDataset(\n",
    "    image_dir=os.path.join(base_path, \"val\", \"images\"),\n",
    "    mask_dir=os.path.join(base_path, \"val\", \"masks\"),\n",
    ")\n",
    "\n",
    "test_dataset = SegformerSegmentationDataset(\n",
    "    image_dir=os.path.join(base_path, \"test\", \"images\"),\n",
    "    mask_dir=os.path.join(base_path, \"test\", \"masks\"),\n",
    ")\n",
    "\n",
    "# DataLoaders\n",
    "train_loader = DataLoader(train_dataset, batch_size=8, shuffle=True, num_workers=0, pin_memory=True)\n",
    "val_loader = DataLoader(val_dataset, batch_size=8, shuffle=False, num_workers=0, pin_memory=True)\n",
    "test_loader = DataLoader(test_dataset, batch_size=8, shuffle=False, num_workers=0, pin_memory=True)"
   ]
  },
  {
   "cell_type": "markdown",
   "id": "d58ed538-6575-4474-b048-0ed2289264a6",
   "metadata": {},
   "source": [
    "## Training"
   ]
  },
  {
   "cell_type": "code",
   "execution_count": 4,
   "id": "50ec960d-92d7-4016-ac34-3d4faf08f0ec",
   "metadata": {},
   "outputs": [
    {
     "name": "stderr",
     "output_type": "stream",
     "text": [
      "Some weights of SegformerForSemanticSegmentation were not initialized from the model checkpoint at nvidia/segformer-b2-finetuned-ade-512-512 and are newly initialized because the shapes did not match:\n",
      "- decode_head.classifier.bias: found shape torch.Size([150]) in the checkpoint and torch.Size([3]) in the model instantiated\n",
      "- decode_head.classifier.weight: found shape torch.Size([150, 768, 1, 1]) in the checkpoint and torch.Size([3, 768, 1, 1]) in the model instantiated\n",
      "You should probably TRAIN this model on a down-stream task to be able to use it for predictions and inference.\n"
     ]
    }
   ],
   "source": [
    "from transformers import SegformerForSemanticSegmentation, SegformerConfig\n",
    "import torch\n",
    "\n",
    "NUM_CLASSES = 3\n",
    "\n",
    "# Load SegFormer-B2 configuration and model\n",
    "config = SegformerConfig.from_pretrained(\n",
    "    \"nvidia/segformer-b2-finetuned-ade-512-512\",\n",
    "    num_labels=NUM_CLASSES,\n",
    "    id2label={0: \"background\", 1: \"crack\", 2: \"pothole\"},\n",
    "    label2id={\"background\": 0, \"crack\": 1, \"pothole\": 2}\n",
    ")\n",
    "\n",
    "model = SegformerForSemanticSegmentation.from_pretrained(\n",
    "    \"nvidia/segformer-b2-finetuned-ade-512-512\",\n",
    "    config=config,\n",
    "    ignore_mismatched_sizes=True,\n",
    "    use_safetensors=True  \n",
    ")\n",
    "\n",
    "device = torch.device(\"cuda\" if torch.cuda.is_available() else \"cpu\")\n",
    "model = model.to(device)"
   ]
  },
  {
   "cell_type": "code",
   "execution_count": 5,
   "id": "842a1bb2-d077-4f47-9667-9d5a24f35d03",
   "metadata": {},
   "outputs": [],
   "source": [
    "import torch.nn as nn\n",
    "import torch.optim as optim\n",
    "\n",
    "# ⚖️ Class weights for handling imbalance: [background, crack, pothole]\n",
    "class_weights = torch.tensor([0.1, 2.0, 1.5]).to(device)\n",
    "\n",
    "# 🔥 Loss function with class weights\n",
    "criterion = nn.CrossEntropyLoss(weight=class_weights)\n",
    "\n",
    "# 🚀 Optimizer setup\n",
    "optimizer = optim.Adam(model.parameters(), lr=1e-4, weight_decay=1e-5)"
   ]
  },
  {
   "cell_type": "code",
   "execution_count": 10,
   "id": "7f0bd6c5-b18c-4d59-9826-e7d69895c4a6",
   "metadata": {},
   "outputs": [],
   "source": [
    "import torch\n",
    "import torch.nn.functional as F\n",
    "from tqdm import tqdm\n",
    "import os\n",
    "import time\n",
    "import matplotlib.pyplot as plt\n",
    "import csv\n",
    "from sklearn.metrics import confusion_matrix\n",
    "import numpy as np\n",
    "\n",
    "device = torch.device(\"cuda\" if torch.cuda.is_available() else \"cpu\")\n",
    "\n",
    "def train_model(\n",
    "    model, train_loader, val_loader, criterion, optimizer,\n",
    "    num_epochs=10,\n",
    "    save_path=\"segformer_b2_best_model.pth\",\n",
    "    last_model_path=\"segformer_b2_last_model.pth\",\n",
    "    checkpoint_path=\"segformer_b2_checkpoint.pth\",\n",
    "    pause_file=\"pause.flag\"\n",
    "):\n",
    "    start_epoch = 0\n",
    "    best_miou = -1.0\n",
    "    miou_list = []\n",
    "    dice_list = []\n",
    "\n",
    "    # Resume from checkpoint if exists\n",
    "    if os.path.exists(checkpoint_path):\n",
    "        print(\"🔁 Resuming from checkpoint...\")\n",
    "        checkpoint = torch.load(checkpoint_path, map_location=device)\n",
    "        model.load_state_dict(checkpoint['model_state_dict'])\n",
    "        optimizer.load_state_dict(checkpoint['optimizer_state_dict'])\n",
    "        start_epoch = checkpoint['epoch'] + 1\n",
    "        best_miou = checkpoint.get('best_miou', -1.0)\n",
    "        print(f\"➡️ Resumed from epoch {start_epoch}, Best mIoU so far: {best_miou:.4f}\")\n",
    "\n",
    "    model.to(device)\n",
    "    print(f\"📟 Using device: {device}\")\n",
    "\n",
    "    for epoch in range(start_epoch, num_epochs):\n",
    "        while os.path.exists(pause_file):\n",
    "            print(\"⏸️ Training paused. Remove 'pause.flag' to resume.\")\n",
    "            time.sleep(5)\n",
    "\n",
    "        model.train()\n",
    "        train_loss = 0.0\n",
    "        loop = tqdm(train_loader, desc=f\"Epoch [{epoch+1}/{num_epochs}] Training\", leave=False)\n",
    "\n",
    "        for images, masks in loop:\n",
    "            images, masks = images.to(device), masks.to(device)\n",
    "\n",
    "            optimizer.zero_grad()\n",
    "            outputs = model(pixel_values=images)\n",
    "            import torch.nn.functional as F\n",
    "            logits = F.interpolate(outputs.logits, size=masks.shape[-2:], mode=\"bilinear\", align_corners=False)\n",
    "            loss = criterion(logits, masks)\n",
    "            loss.backward()\n",
    "            optimizer.step()\n",
    "\n",
    "            train_loss += loss.item()\n",
    "            loop.set_postfix(loss=loss.item())\n",
    "\n",
    "        avg_train_loss = train_loss / len(train_loader)\n",
    "        print(f\"\\n📘 Epoch {epoch+1}: Avg Train Loss = {avg_train_loss:.4f}\")\n",
    "\n",
    "        val_loss, miou, dice, ious, dices = validate(model, val_loader, criterion)\n",
    "\n",
    "        miou_list.append(miou)\n",
    "        dice_list.append(dice)\n",
    "\n",
    "        if miou > best_miou:\n",
    "            best_miou = miou\n",
    "            torch.save(model.state_dict(), save_path)\n",
    "            print(f\"✅ Best model saved! mIoU = {best_miou:.4f}\")\n",
    "\n",
    "        torch.save({\n",
    "            'epoch': epoch,\n",
    "            'model_state_dict': model.state_dict(),\n",
    "            'optimizer_state_dict': optimizer.state_dict(),\n",
    "            'best_miou': best_miou\n",
    "        }, checkpoint_path)\n",
    "        print(f\"💾 Checkpoint saved at epoch {epoch+1}\")\n",
    "\n",
    "    torch.save(model.state_dict(), last_model_path)\n",
    "    print(f\"📦 Final model saved to: {last_model_path}\")\n",
    "\n",
    "    # Plotting\n",
    "    plt.figure(figsize=(10, 5))\n",
    "    plt.plot(miou_list, label=\"mIoU\", marker='o')\n",
    "    plt.plot(dice_list, label=\"Dice\", marker='x')\n",
    "    plt.xlabel(\"Epoch\")\n",
    "    plt.ylabel(\"Score\")\n",
    "    plt.title(\"mIoU and Dice over Epochs\")\n",
    "    plt.legend()\n",
    "    plt.grid(True)\n",
    "    plt.savefig(\"training_metrics.png\")\n",
    "    plt.show()\n",
    "\n",
    "    with open(\"metrics_log.csv\", \"w\", newline='') as f:\n",
    "        writer = csv.writer(f)\n",
    "        writer.writerow([\"Epoch\", \"mIoU\", \"Dice\"])\n",
    "        for epoch, (m, d) in enumerate(zip(miou_list, dice_list), start=1):\n",
    "            writer.writerow([epoch, m, d])\n",
    "\n",
    "def compute_iou_and_dice(preds, labels, num_classes=3):\n",
    "    preds = preds.flatten()\n",
    "    labels = labels.flatten()\n",
    "    cm = confusion_matrix(labels, preds, labels=range(num_classes))\n",
    "\n",
    "    ious, dices = [], []\n",
    "    for cls in range(num_classes):\n",
    "        tp = cm[cls, cls]\n",
    "        fp = cm[:, cls].sum() - tp\n",
    "        fn = cm[cls, :].sum() - tp\n",
    "        denom_iou = tp + fp + fn\n",
    "        denom_dice = 2 * tp + fp + fn\n",
    "\n",
    "        iou = tp / denom_iou if denom_iou > 0 else 0\n",
    "        dice = (2 * tp) / denom_dice if denom_dice > 0 else 0\n",
    "\n",
    "        ious.append(iou)\n",
    "        dices.append(dice)\n",
    "\n",
    "    return ious, dices, np.mean(ious), np.mean(dices)\n",
    "\n",
    "@torch.no_grad()\n",
    "def validate(model, val_loader, criterion, num_classes=3):\n",
    "    model.eval()\n",
    "    val_loss = 0.0\n",
    "    all_preds, all_labels = [], []\n",
    "\n",
    "    for images, masks in tqdm(val_loader, desc=\"🔍 Validating\", leave=False):\n",
    "        images, masks = images.to(device), masks.to(device)\n",
    "        outputs = model(pixel_values=images)\n",
    "        logits = F.interpolate(outputs.logits, size=masks.shape[-2:], mode=\"bilinear\", align_corners=False)\n",
    "        loss = criterion(logits, masks)\n",
    "        val_loss += loss.item()\n",
    "        \n",
    "        preds = torch.argmax(logits, dim=1).cpu().numpy()\n",
    "        all_preds.append(preds)\n",
    "        all_labels.append(masks.cpu().numpy())\n",
    "\n",
    "    avg_val_loss = val_loss / len(val_loader)\n",
    "    all_preds = np.concatenate(all_preds, axis=0)\n",
    "    all_labels = np.concatenate(all_labels, axis=0)\n",
    "\n",
    "    ious, dices, miou, mdice = compute_iou_and_dice(all_preds, all_labels, num_classes=num_classes)\n",
    "\n",
    "    print(f\"🔎 Val Loss: {avg_val_loss:.4f}, mIoU: {miou:.4f}, Dice: {mdice:.4f}\")\n",
    "    for idx, (iou, dice) in enumerate(zip(ious, dices)):\n",
    "        print(f\"🧾 Class {idx}: IoU = {iou:.4f}, Dice = {dice:.4f}\")\n",
    "\n",
    "    return avg_val_loss, miou, mdice, ious, dices"
   ]
  },
  {
   "cell_type": "markdown",
   "id": "41e75d4d-fddc-4d53-b762-80e37b9e115b",
   "metadata": {},
   "source": [
    "## Start Training"
   ]
  },
  {
   "cell_type": "code",
   "execution_count": 7,
   "id": "8a48a0c3-91cb-4e65-bec6-0549ed0f761d",
   "metadata": {},
   "outputs": [],
   "source": [
    "# model.load_state_dict(torch.load(\"segformer_B2_best.pth\"))"
   ]
  },
  {
   "cell_type": "code",
   "execution_count": null,
   "id": "423a1a88-baa1-4cae-a2a3-f52ec34439bb",
   "metadata": {
    "scrolled": true
   },
   "outputs": [
    {
     "name": "stdout",
     "output_type": "stream",
     "text": [
      "🔁 Resuming from checkpoint...\n"
     ]
    },
    {
     "name": "stderr",
     "output_type": "stream",
     "text": [
      "C:\\Users\\SHREY\\AppData\\Local\\Temp\\ipykernel_11824\\1897298777.py:29: FutureWarning: You are using `torch.load` with `weights_only=False` (the current default value), which uses the default pickle module implicitly. It is possible to construct malicious pickle data which will execute arbitrary code during unpickling (See https://github.com/pytorch/pytorch/blob/main/SECURITY.md#untrusted-models for more details). In a future release, the default value for `weights_only` will be flipped to `True`. This limits the functions that could be executed during unpickling. Arbitrary objects will no longer be allowed to be loaded via this mode unless they are explicitly allowlisted by the user via `torch.serialization.add_safe_globals`. We recommend you start setting `weights_only=True` for any use case where you don't have full control of the loaded file. Please open an issue on GitHub for any issues related to this experimental feature.\n",
      "  checkpoint = torch.load(checkpoint_path, map_location=device)\n"
     ]
    },
    {
     "name": "stdout",
     "output_type": "stream",
     "text": [
      "➡️ Resumed from epoch 25, Best mIoU so far: 0.6210\n",
      "📟 Using device: cuda\n"
     ]
    },
    {
     "name": "stderr",
     "output_type": "stream",
     "text": [
      "                                                                                                                       "
     ]
    },
    {
     "name": "stdout",
     "output_type": "stream",
     "text": [
      "\n",
      "📘 Epoch 26: Avg Train Loss = 0.0661\n"
     ]
    },
    {
     "name": "stderr",
     "output_type": "stream",
     "text": [
      "                                                                                                                       "
     ]
    },
    {
     "name": "stdout",
     "output_type": "stream",
     "text": [
      "🔎 Val Loss: 2.0328, mIoU: 0.3319, Dice: 0.3345\n",
      "🧾 Class 0: IoU = 0.9919, Dice = 0.9960\n",
      "🧾 Class 1: IoU = 0.0038, Dice = 0.0075\n",
      "🧾 Class 2: IoU = 0.0000, Dice = 0.0000\n",
      "💾 Checkpoint saved at epoch 26\n"
     ]
    },
    {
     "name": "stderr",
     "output_type": "stream",
     "text": [
      "                                                                                                                       "
     ]
    },
    {
     "name": "stdout",
     "output_type": "stream",
     "text": [
      "\n",
      "📘 Epoch 27: Avg Train Loss = 0.0618\n"
     ]
    },
    {
     "name": "stderr",
     "output_type": "stream",
     "text": [
      "                                                                                                                       "
     ]
    },
    {
     "name": "stdout",
     "output_type": "stream",
     "text": [
      "🔎 Val Loss: 9.5150, mIoU: 0.3306, Dice: 0.3320\n",
      "🧾 Class 0: IoU = 0.9919, Dice = 0.9959\n",
      "🧾 Class 1: IoU = 0.0000, Dice = 0.0000\n",
      "🧾 Class 2: IoU = 0.0000, Dice = 0.0000\n",
      "💾 Checkpoint saved at epoch 27\n"
     ]
    },
    {
     "name": "stderr",
     "output_type": "stream",
     "text": [
      "                                                                                                                       "
     ]
    },
    {
     "name": "stdout",
     "output_type": "stream",
     "text": [
      "\n",
      "📘 Epoch 28: Avg Train Loss = 0.0686\n"
     ]
    },
    {
     "name": "stderr",
     "output_type": "stream",
     "text": [
      "                                                                                                                       "
     ]
    },
    {
     "name": "stdout",
     "output_type": "stream",
     "text": [
      "🔎 Val Loss: 18.5702, mIoU: 0.3306, Dice: 0.3320\n",
      "🧾 Class 0: IoU = 0.9919, Dice = 0.9959\n",
      "🧾 Class 1: IoU = 0.0000, Dice = 0.0000\n",
      "🧾 Class 2: IoU = 0.0000, Dice = 0.0000\n",
      "💾 Checkpoint saved at epoch 28\n"
     ]
    },
    {
     "name": "stderr",
     "output_type": "stream",
     "text": [
      "                                                                                                                       "
     ]
    },
    {
     "name": "stdout",
     "output_type": "stream",
     "text": [
      "\n",
      "📘 Epoch 29: Avg Train Loss = 0.0642\n"
     ]
    },
    {
     "name": "stderr",
     "output_type": "stream",
     "text": [
      "                                                                                                                       "
     ]
    },
    {
     "name": "stdout",
     "output_type": "stream",
     "text": [
      "🔎 Val Loss: 32.1128, mIoU: 0.3306, Dice: 0.3320\n",
      "🧾 Class 0: IoU = 0.9919, Dice = 0.9959\n",
      "🧾 Class 1: IoU = 0.0000, Dice = 0.0000\n",
      "🧾 Class 2: IoU = 0.0000, Dice = 0.0000\n",
      "💾 Checkpoint saved at epoch 29\n"
     ]
    },
    {
     "name": "stderr",
     "output_type": "stream",
     "text": [
      "                                                                                                                       "
     ]
    },
    {
     "name": "stdout",
     "output_type": "stream",
     "text": [
      "\n",
      "📘 Epoch 30: Avg Train Loss = 0.0645\n"
     ]
    },
    {
     "name": "stderr",
     "output_type": "stream",
     "text": [
      "                                                                                                                       "
     ]
    },
    {
     "name": "stdout",
     "output_type": "stream",
     "text": [
      "🔎 Val Loss: 27.6333, mIoU: 0.3306, Dice: 0.3320\n",
      "🧾 Class 0: IoU = 0.9919, Dice = 0.9959\n",
      "🧾 Class 1: IoU = 0.0000, Dice = 0.0000\n",
      "🧾 Class 2: IoU = 0.0000, Dice = 0.0000\n",
      "💾 Checkpoint saved at epoch 30\n"
     ]
    },
    {
     "name": "stderr",
     "output_type": "stream",
     "text": [
      "Epoch [31/60] Training:   0%|▏                                          | 1/224 [00:24<1:32:51, 24.98s/it, loss=0.0751]"
     ]
    }
   ],
   "source": [
    "train_model(\n",
    "    model=model,  # SegformerForSemanticSegmentation model\n",
    "    train_loader=train_loader,\n",
    "    val_loader=val_loader,\n",
    "    criterion=criterion,\n",
    "    optimizer=optimizer,\n",
    "    num_epochs=60,\n",
    "    save_path=\"segformer_B2_best.pth\",\n",
    "    last_model_path=\"segformer_B2_last.pth\",\n",
    "    checkpoint_path=\"segformer_B2_checkpoint.pth\"\n",
    ")"
   ]
  },
  {
   "cell_type": "markdown",
   "id": "46d374ee-4f9d-4c93-82ce-b6a764662127",
   "metadata": {},
   "source": [
    "## To be updated"
   ]
  },
  {
   "cell_type": "code",
   "execution_count": 7,
   "id": "dcd659f7-7c53-4bdb-ba80-3cc558dc8187",
   "metadata": {},
   "outputs": [],
   "source": [
    "from sklearn.metrics import confusion_matrix\n",
    "import numpy as np\n",
    "\n",
    "def compute_confusion_metrics(preds, labels, num_classes=3):\n",
    "    \"\"\"\n",
    "    preds and labels must be 1D arrays of class IDs.\n",
    "    \"\"\"\n",
    "    cm = confusion_matrix(labels, preds, labels=range(num_classes))\n",
    "    print(\"🔷 Confusion Matrix:\")\n",
    "    print(cm)\n",
    "\n",
    "    per_class_accuracy = {}\n",
    "    for cls in range(num_classes):\n",
    "        tp = cm[cls, cls]\n",
    "        total = cm[cls, :].sum()\n",
    "        acc = tp / total if total > 0 else 0.0\n",
    "        per_class_accuracy[cls] = acc\n",
    "\n",
    "    return cm, per_class_accuracy"
   ]
  },
  {
   "cell_type": "code",
   "execution_count": 8,
   "id": "83d0fe5e-8f44-4745-b33b-afda796cc36c",
   "metadata": {},
   "outputs": [],
   "source": [
    "from tqdm import tqdm\n",
    "import torch\n",
    "import numpy as np\n",
    "from sklearn.metrics import confusion_matrix\n",
    "import matplotlib.pyplot as plt\n",
    "import seaborn as sns\n",
    "\n",
    "CLASS_NAMES = [\"Background\", \"Crack\", \"Pothole\"]\n",
    "NUM_CLASSES = 3\n",
    "\n",
    "def compute_metrics(model, dataloader, device):\n",
    "    model.eval()\n",
    "    all_preds = []\n",
    "    all_labels = []\n",
    "\n",
    "    with torch.no_grad():\n",
    "        for images, masks in tqdm(dataloader, desc=\"🔍 Evaluating\", leave=False):\n",
    "            images, masks = images.to(device), masks.to(device)\n",
    "            outputs = model(pixel_values=images)\n",
    "            logits = torch.nn.functional.interpolate(\n",
    "                outputs.logits, size=masks.shape[-2:], mode=\"bilinear\", align_corners=False\n",
    "            )\n",
    "            preds = torch.argmax(logits, dim=1)\n",
    "\n",
    "            all_preds.extend(preds.cpu().numpy().flatten())\n",
    "            all_labels.extend(masks.cpu().numpy().flatten())\n",
    "\n",
    "    all_preds = np.array(all_preds)\n",
    "    all_labels = np.array(all_labels)\n",
    "\n",
    "    cm = confusion_matrix(all_labels, all_preds, labels=range(NUM_CLASSES))\n",
    "    ious = []\n",
    "    for cls in range(NUM_CLASSES):\n",
    "        tp = cm[cls, cls]\n",
    "        fp = cm[:, cls].sum() - tp\n",
    "        fn = cm[cls, :].sum() - tp\n",
    "        denom = tp + fp + fn\n",
    "        iou = tp / denom if denom > 0 else 0\n",
    "        ious.append(iou)\n",
    "\n",
    "    pixel_acc = np.mean(all_preds == all_labels)\n",
    "    per_class_acc = cm.diagonal() / cm.sum(axis=1)\n",
    "\n",
    "    print(\"\\n📊 Performance Metrics:\")\n",
    "    print(f\"Pixel Accuracy: {pixel_acc:.4f}\")\n",
    "    print(\"Per-class Accuracy:\")\n",
    "    for i, acc in enumerate(per_class_acc):\n",
    "        print(f\"  {CLASS_NAMES[i]}: {acc:.4f}\")\n",
    "    print(\"IoU per class:\")\n",
    "    for i, iou in enumerate(ious):\n",
    "        print(f\"  {CLASS_NAMES[i]}: {iou:.4f}\")\n",
    "    print(f\"Mean IoU: {np.mean(ious):.4f}\")\n",
    "\n",
    "    # Plot confusion matrix\n",
    "    # Standardized Confusion Matrix (Row-normalized)\n",
    "    cm_normalized = cm.astype('float') / cm.sum(axis=1)[:, np.newaxis]\n",
    "    print(\"\\n📋 Standardized Confusion Matrix (rows sum to 1):\")\n",
    "    for i, row in enumerate(cm_normalized):\n",
    "        row_str = '  '.join(f\"{val:.4f}\" for val in row)\n",
    "        print(f\"{CLASS_NAMES[i]:<10}: {row_str}\")\n",
    "\n",
    "    # Plot confusion matrix (standardized)\n",
    "    plt.figure(figsize=(6, 5))\n",
    "    sns.heatmap(cm_normalized, annot=True, fmt=\".4f\", xticklabels=CLASS_NAMES, yticklabels=CLASS_NAMES, cmap=\"Blues\")\n",
    "    plt.xlabel(\"Predicted\")\n",
    "    plt.ylabel(\"True\")\n",
    "    plt.title(\"Standardized Confusion Matrix\")\n",
    "    plt.tight_layout()\n",
    "    plt.show()"
   ]
  },
  {
   "cell_type": "code",
   "execution_count": 9,
   "id": "0f1cdeed-2b29-4806-9230-55a4959a5712",
   "metadata": {},
   "outputs": [
    {
     "name": "stderr",
     "output_type": "stream",
     "text": [
      "C:\\Users\\SHREY\\AppData\\Local\\Temp\\ipykernel_19912\\4138738451.py:1: FutureWarning: You are using `torch.load` with `weights_only=False` (the current default value), which uses the default pickle module implicitly. It is possible to construct malicious pickle data which will execute arbitrary code during unpickling (See https://github.com/pytorch/pytorch/blob/main/SECURITY.md#untrusted-models for more details). In a future release, the default value for `weights_only` will be flipped to `True`. This limits the functions that could be executed during unpickling. Arbitrary objects will no longer be allowed to be loaded via this mode unless they are explicitly allowlisted by the user via `torch.serialization.add_safe_globals`. We recommend you start setting `weights_only=True` for any use case where you don't have full control of the loaded file. Please open an issue on GitHub for any issues related to this experimental feature.\n",
      "  model.load_state_dict(torch.load(\"segformer_B2_best.pth\", map_location=device))\n",
      "                                                                                                                       "
     ]
    },
    {
     "name": "stdout",
     "output_type": "stream",
     "text": [
      "\n",
      "📊 Performance Metrics:\n",
      "Pixel Accuracy: 0.9845\n",
      "Per-class Accuracy:\n",
      "  Background: 0.9863\n",
      "  Crack: 0.7481\n",
      "  Pothole: 0.7992\n",
      "IoU per class:\n",
      "  Background: 0.9845\n",
      "  Crack: 0.2247\n",
      "  Pothole: 0.6477\n",
      "Mean IoU: 0.6189\n",
      "\n",
      "📋 Standardized Confusion Matrix (rows sum to 1):\n",
      "Background: 0.9863  0.0130  0.0006\n",
      "Crack     : 0.2477  0.7481  0.0042\n",
      "Pothole   : 0.1679  0.0329  0.7992\n"
     ]
    },
    {
     "data": {
      "image/png": "[encoded data removed]",
      "text/plain": [
       "<Figure size 600x500 with 2 Axes>"
      ]
     },
     "metadata": {},
     "output_type": "display_data"
    }
   ],
   "source": [
    "model.load_state_dict(torch.load(\"segformer_B2_best.pth\", map_location=device))\n",
    "model.to(device)\n",
    "compute_metrics(model, test_loader, device)"
   ]
  }
 ],
 "metadata": {
  "kernelspec": {
   "display_name": "Python (gnctd)",
   "language": "python",
   "name": "gnctd"
  },
  "language_info": {
   "codemirror_mode": {
    "name": "ipython",
    "version": 3
   },
   "file_extension": ".py",
   "mimetype": "text/x-python",
   "name": "python",
   "nbconvert_exporter": "python",
   "pygments_lexer": "ipython3",
   "version": "3.10.18"
  }
 },
 "nbformat": 4,
 "nbformat_minor": 5
}
