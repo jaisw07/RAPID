{
 "cells": [
  {
   "cell_type": "markdown",
   "id": "11941e7f-72b1-480d-9551-91ea11a2b011",
   "metadata": {},
   "source": [
    "## JSON ANNOTATIONS (MASTER & PER FOLDER) -> BOUNDING BOX FOR OBJECT DETECTION"
   ]
  },
  {
   "cell_type": "code",
   "execution_count": 3,
   "id": "23432d92-4b59-43a6-827c-83011476273f",
   "metadata": {},
   "outputs": [
    {
     "data": {
      "application/vnd.jupyter.widget-view+json": {
       "model_id": "4d9717ae7b6e442cb776fbc55aece1ef",
       "version_major": 2,
       "version_minor": 0
      },
      "text/plain": [
       "Processing image folders:   0%|          | 0/2235 [00:00<?, ?it/s]"
      ]
     },
     "metadata": {},
     "output_type": "display_data"
    },
    {
     "name": "stdout",
     "output_type": "stream",
     "text": [
      "✅ Global annotation file saved to: D:\\internship\\gnctd\\biankatpas-Cracks-and-Potholes-in-Road-Images-Dataset-1f20054\\biankatpas-Cracks-and-Potholes-in-Road-Images-Dataset-1f20054\\Dataset\\annotations.json\n",
      "✅ Per-folder annotation files also saved.\n"
     ]
    }
   ],
   "source": [
    "import os\n",
    "import json\n",
    "import cv2\n",
    "import re\n",
    "from tqdm.notebook import tqdm  # Jupyter-compatible progress bar\n",
    "\n",
    "# Set your dataset root directory\n",
    "root_dir = r\"D:\\internship\\gnctd\\biankatpas-Cracks-and-Potholes-in-Road-Images-Dataset-1f20054\\biankatpas-Cracks-and-Potholes-in-Road-Images-Dataset-1f20054\\Dataset\"\n",
    "\n",
    "def extract_bounding_boxes(mask_path):\n",
    "    \"\"\"Extract bounding boxes from a binary mask image.\"\"\"\n",
    "    mask = cv2.imread(mask_path, cv2.IMREAD_GRAYSCALE)\n",
    "    if mask is None:\n",
    "        return []\n",
    "    _, thresh = cv2.threshold(mask, 127, 255, cv2.THRESH_BINARY)\n",
    "    contours, _ = cv2.findContours(thresh, cv2.RETR_EXTERNAL, cv2.CHAIN_APPROX_SIMPLE)\n",
    "    bboxes = []\n",
    "    for cnt in contours:\n",
    "        x, y, w, h = cv2.boundingRect(cnt)\n",
    "        bboxes.append([x, y, x + w, y + h])  # Format: [x_min, y_min, x_max, y_max]\n",
    "    return bboxes\n",
    "\n",
    "def extract_metadata(folder_name):\n",
    "    \"\"\"Extract state and highway metadata from the folder name.\"\"\"\n",
    "    match = re.search(r'_(RS|ES|DF)_(\\d+)_', folder_name)\n",
    "    if match:\n",
    "        state, highway = match.groups()\n",
    "        return state, f\"BR-{highway}\"\n",
    "    return None, None\n",
    "\n",
    "# List to collect all image annotations\n",
    "dataset_annotations = []\n",
    "\n",
    "# Get list of all folders inside the dataset directory\n",
    "all_folders = [f for f in os.listdir(root_dir) if os.path.isdir(os.path.join(root_dir, f))]\n",
    "\n",
    "# Loop over all folders with a progress bar\n",
    "for subdir in tqdm(all_folders, desc=\"Processing image folders\"):\n",
    "    folder_path = os.path.join(root_dir, subdir)\n",
    "    state, highway = extract_metadata(subdir)\n",
    "    if not state or not highway:\n",
    "        continue  # Skip folders with missing or invalid metadata\n",
    "\n",
    "    base_name = subdir\n",
    "    raw_image_path = os.path.join(folder_path, f\"{base_name}_RAW.jpg\")\n",
    "    crack_mask_path = os.path.join(folder_path, f\"{base_name}_CRACK.png\")\n",
    "    pothole_mask_path = os.path.join(folder_path, f\"{base_name}_POTHOLE.png\")\n",
    "\n",
    "    crack_bboxes = extract_bounding_boxes(crack_mask_path)\n",
    "    pothole_bboxes = extract_bounding_boxes(pothole_mask_path)\n",
    "\n",
    "    image_annotations = {\n",
    "        'image': raw_image_path,\n",
    "        'state': state,\n",
    "        'highway': highway,\n",
    "        'annotations': []\n",
    "    }\n",
    "\n",
    "    for bbox in crack_bboxes:\n",
    "        image_annotations['annotations'].append({\n",
    "            'label': 'crack',\n",
    "            'bbox': bbox\n",
    "        })\n",
    "\n",
    "    for bbox in pothole_bboxes:\n",
    "        image_annotations['annotations'].append({\n",
    "            'label': 'pothole',\n",
    "            'bbox': bbox\n",
    "        })\n",
    "\n",
    "    # Add to global annotations list\n",
    "    dataset_annotations.append(image_annotations)\n",
    "\n",
    "    # ✅ Also save a per-folder annotation file\n",
    "    per_folder_json_path = os.path.join(folder_path, \"annotation.json\")\n",
    "    with open(per_folder_json_path, \"w\") as f:\n",
    "        json.dump(image_annotations, f, indent=2)\n",
    "\n",
    "# ✅ Save the full dataset annotations as a single JSON file\n",
    "output_json_path = os.path.join(root_dir, \"annotations.json\")\n",
    "with open(output_json_path, \"w\") as f:\n",
    "    json.dump(dataset_annotations, f, indent=2)\n",
    "\n",
    "print(f\"✅ Global annotation file saved to: {output_json_path}\")\n",
    "print(\"✅ Per-folder annotation files also saved.\")"
   ]
  },
  {
   "cell_type": "markdown",
   "id": "5d8ed86f-9dbb-4b36-8dba-4970f6c622b6",
   "metadata": {},
   "source": [
    "## GENERATING COMBINED MASKS(POTHOLE+CRACK) PER IMAGE FOR SEMANTIC SEGMENTATION (pothole = 255, cracks = 127, bg = 0 with pothole as priority class on overlapping areas)"
   ]
  },
  {
   "cell_type": "code",
   "execution_count": 5,
   "id": "6d906364-1fce-4d36-a805-bca81aa03145",
   "metadata": {},
   "outputs": [
    {
     "data": {
      "application/vnd.jupyter.widget-view+json": {
       "model_id": "41b4041121c24f4bb2889724d29c6833",
       "version_major": 2,
       "version_minor": 0
      },
      "text/plain": [
       "Re‐generating combined masks:   0%|          | 0/2235 [00:00<?, ?it/s]"
      ]
     },
     "metadata": {},
     "output_type": "display_data"
    }
   ],
   "source": [
    "import os\n",
    "from PIL import Image\n",
    "import numpy as np\n",
    "from tqdm.notebook import tqdm  # Jupyter-compatible progress bar\n",
    "\n",
    "# Set your root dataset directory\n",
    "root_dir = r\"D:\\internship\\gnctd\\biankatpas-Cracks-and-Potholes-in-Road-Images-Dataset-1f20054\\biankatpas-Cracks-and-Potholes-in-Road-Images-Dataset-1f20054\\Dataset\"\n",
    "\n",
    "# List all sub‐folders\n",
    "all_folders = [f for f in os.listdir(root_dir) if os.path.isdir(os.path.join(root_dir, f))]\n",
    "\n",
    "for subdir in tqdm(all_folders, desc=\"Re‐generating combined masks\"):\n",
    "    folder_path = os.path.join(root_dir, subdir)\n",
    "    \n",
    "    crack_mask_path   = os.path.join(folder_path, f\"{subdir}_CRACK.png\")\n",
    "    pothole_mask_path = os.path.join(folder_path, f\"{subdir}_POTHOLE.png\")\n",
    "    \n",
    "    if not (os.path.exists(crack_mask_path) and os.path.exists(pothole_mask_path)):\n",
    "        print(f\"⚠️  Skipping {subdir}: missing CRACK or POTHOLE mask.\")\n",
    "        continue\n",
    "    \n",
    "    # Load masks as grayscale arrays (values 0 or 255)\n",
    "    crack_mask   = np.array(Image.open(crack_mask_path).convert(\"L\"))\n",
    "    pothole_mask = np.array(Image.open(pothole_mask_path).convert(\"L\"))\n",
    "    \n",
    "    # Create a new combined mask (uint8)\n",
    "    combined = np.zeros_like(crack_mask, dtype=np.uint8)\n",
    "    \n",
    "    # 1) Mark potholes first (value = 255)\n",
    "    combined[pothole_mask > 0] = 255\n",
    "    \n",
    "    # 2) Mark cracks (value = 127) only where there is no pothole\n",
    "    combined[(crack_mask > 0) & (pothole_mask == 0)] = 127\n",
    "    \n",
    "    # Save (overwrite) combined mask in the same folder\n",
    "    combined_path = os.path.join(folder_path, f\"{subdir}_COMBINED.png\")\n",
    "    Image.fromarray(combined).save(combined_path)"
   ]
  }
 ],
 "metadata": {
  "kernelspec": {
   "display_name": "Python 3 (ipykernel)",
   "language": "python",
   "name": "python3"
  },
  "language_info": {
   "codemirror_mode": {
    "name": "ipython",
    "version": 3
   },
   "file_extension": ".py",
   "mimetype": "text/x-python",
   "name": "python",
   "nbconvert_exporter": "python",
   "pygments_lexer": "ipython3",
   "version": "3.10.16"
  }
 },
 "nbformat": 4,
 "nbformat_minor": 5
}
